{
 "cells": [
  {
   "cell_type": "markdown",
   "metadata": {},
   "source": [
    "1st/default leg: $(1-RR) \\times N \\times \\sum_{i=1}^{n}(DF_i * DP_i)$\n",
    "\n",
    "2nd/fixed leg: $N \\times \\sum_{i=1}^{n}(s * DF_i * SP_i)$\n",
    "\n",
    "\n",
    "Equated should mean:\n",
    "## $s~=~\\frac{(1-RR)~\\times~\\sum_{i=1}^{n}(DF_i~\\times~DP_i)}{\\sum_{i=1}^{n}(DF_i~\\times~SP_i)}$\n",
    "\n",
    "---\n",
    "\n",
    "First  \n",
    "$(1-RR) \\times N \\times \\sum_{i=1}^{n}(DF_i * DP_i)~ = ~N \\times \\sum_{i=1}^{n}(s * DF_i * SP_i)$\n",
    "\n",
    "Separate the sum of $s$  \n",
    "$(1-RR) \\times N \\times \\sum_{i=1}^{n}(DF_i * DP_i)~ = ~N \\times \\sum_{i=1}^{n}s~~\\times~ \\sum_{i=1}^{n}(DF_i * SP_i)$\n",
    "\n",
    "Simplify the sum of $s$ over $n$ periods  \n",
    "$(1-RR) \\times N \\times \\sum_{i=1}^{n}(DF_i * DP_i)~ = ~N \\times (s*n)~\\times~ \\sum_{i=1}^{n}(DF_i * SP_i)$\n",
    "\n",
    "Cancel the Notional on both sides\n",
    "$(1-RR) \\times \\sum_{i=1}^{n}(DF_i * DP_i)~ = ~ (s*n)~\\times~ \\sum_{i=1}^{n}(DF_i * SP_i)$\n"
   ]
  },
  {
   "cell_type": "code",
   "execution_count": null,
   "metadata": {
    "collapsed": true
   },
   "outputs": [],
   "source": []
  }
 ],
 "metadata": {
  "kernelspec": {
   "display_name": "Python 3",
   "language": "python",
   "name": "python3"
  },
  "language_info": {
   "codemirror_mode": {
    "name": "ipython",
    "version": 3
   },
   "file_extension": ".py",
   "mimetype": "text/x-python",
   "name": "python",
   "nbconvert_exporter": "python",
   "pygments_lexer": "ipython3",
   "version": "3.6.3"
  }
 },
 "nbformat": 4,
 "nbformat_minor": 2
}
