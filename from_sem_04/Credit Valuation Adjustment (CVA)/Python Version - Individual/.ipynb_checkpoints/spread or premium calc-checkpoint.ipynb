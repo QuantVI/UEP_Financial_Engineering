{
 "cells": [
  {
   "cell_type": "markdown",
   "metadata": {},
   "source": [
    "From notes:\n",
    "\n",
    "(1) 1st/default leg: $(1-RR) \\times N \\times \\sum_{i=1}^{n}(DF_i * DP_i)$\n",
    "\n",
    "(2) 2nd/fixed leg: $N \\times \\sum_{i=1}^{n}(s * DF_i * SP_i)$\n",
    "\n",
    "\n",
    "Equated should mean:\n",
    "## (3) $s~=~\\frac{(1-RR)~\\times~\\sum_{i=1}^{n}(DF_i~\\times~DP_i)}{\\sum_{i=1}^{n}(DF_i~\\times~SP_i)}$\n",
    "\n",
    "---\n",
    "If we try to derive the line above:\n",
    "\n",
    "First  \n",
    "$(1-RR) \\times N \\times \\sum_{i=1}^{n}(DF_i * DP_i)~ = ~N \\times \\sum_{i=1}^{n}(s * DF_i * SP_i)$\n",
    "\n",
    "Separate the sum of $s$  \n",
    "$(1-RR) \\times N \\times \\sum_{i=1}^{n}(DF_i * DP_i)~ = ~N \\times \\sum_{i=1}^{n}s~~\\times~ \\sum_{i=1}^{n}(DF_i * SP_i)$\n",
    "\n",
    "Simplify the sum of $s$ over $n$ periods  \n",
    "$(1-RR) \\times N \\times \\sum_{i=1}^{n}(DF_i * DP_i)~ = ~N \\times (s*n)~\\times~ \\sum_{i=1}^{n}(DF_i * SP_i)$\n",
    "\n",
    "Cancel the Notional on both sides  \n",
    "$(1-RR) \\times \\sum_{i=1}^{n}(DF_i * DP_i)~ = ~ (s*n)~\\times~ \\sum_{i=1}^{n}(DF_i * SP_i)$\n",
    "\n",
    "\n",
    "Divide the left side by the right side to isolate $s$\n",
    "## $\\frac{(1-RR) \\times \\sum_{i=1}^{n}(DF_i * DP_i)} {\\sum_{i=1}^{n}(DF_i * SP_i)}$ = $(s*n)$\n",
    "\n",
    "\n",
    "---\n",
    "\n",
    "The $s$ in (3) is different from the derivation. What happened or what is missing?"
   ]
  },
  {
   "cell_type": "code",
   "execution_count": null,
   "metadata": {},
   "outputs": [],
   "source": []
  }
 ],
 "metadata": {
  "kernelspec": {
   "display_name": "Python 3",
   "language": "python",
   "name": "python3"
  },
  "language_info": {
   "codemirror_mode": {
    "name": "ipython",
    "version": 3
   },
   "file_extension": ".py",
   "mimetype": "text/x-python",
   "name": "python",
   "nbconvert_exporter": "python",
   "pygments_lexer": "ipython3",
   "version": "3.6.5"
  }
 },
 "nbformat": 4,
 "nbformat_minor": 2
}
