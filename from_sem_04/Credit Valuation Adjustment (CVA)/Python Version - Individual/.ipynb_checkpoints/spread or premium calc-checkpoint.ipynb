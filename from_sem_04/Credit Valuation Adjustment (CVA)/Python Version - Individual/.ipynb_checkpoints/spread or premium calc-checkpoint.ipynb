{
 "cells": [
  {
   "cell_type": "markdown",
   "metadata": {},
   "source": [
    "From notes:\n",
    "\n",
    "(1) 1st/default leg: $(1-RR) \\times N \\times \\sum_{i=1}^{n}(DF_i * DP_i)$\n",
    "\n",
    "(2) 2nd/fixed leg: $N \\times \\sum_{i=1}^{n}(s * DF_i * SP_i)$\n",
    "\n",
    "\n",
    "Equated should mean:\n",
    "## (3) $s~=~\\frac{(1-RR)~\\times~\\sum_{i=1}^{n}(DF_i~\\times~DP_i)}{\\sum_{i=1}^{n}(DF_i~\\times~SP_i)}$\n",
    "\n",
    "---\n",
    "If we try to derive the line above:\n",
    "\n",
    "First  \n",
    "$(1-RR) \\times N \\times \\sum_{i=1}^{n}(DF_i * DP_i)~ = ~N \\times \\sum_{i=1}^{n}(s * DF_i * SP_i)$\n",
    "\n",
    "Separate the sum of $s$  \n",
    "$(1-RR) \\times N \\times \\sum_{i=1}^{n}(DF_i * DP_i)~ = ~N \\times \\sum_{i=1}^{n}s~~\\times~ \\sum_{i=1}^{n}(DF_i * SP_i)$\n",
    "\n",
    "Simplify the sum of $s$ over $n$ periods  \n",
    "$(1-RR) \\times N \\times \\sum_{i=1}^{n}(DF_i * DP_i)~ = ~N \\times (s*n)~\\times~ \\sum_{i=1}^{n}(DF_i * SP_i)$\n",
    "\n",
    "Cancel the Notional on both sides  \n",
    "$(1-RR) \\times \\sum_{i=1}^{n}(DF_i * DP_i)~ = ~ (s*n)~\\times~ \\sum_{i=1}^{n}(DF_i * SP_i)$\n",
    "\n",
    "\n",
    "Divide the left side by the right side to isolate $s$\n",
    "## $\\frac{(1-RR) \\times \\sum_{i=1}^{n}(DF_i * DP_i)} {\\sum_{i=1}^{n}(DF_i * SP_i)}$ = $(s*n)$\n",
    "\n",
    "\n",
    "---\n",
    "\n",
    "The $s$ in (3) is different from the derivation. What happened or what is missing?"
   ]
  },
  {
   "cell_type": "markdown",
   "metadata": {},
   "source": [
    "When we take the \"s\" out of the right side, then we just get s itself, not n*s. This is becuase s does not depend on the time/time interval.\n",
    "\n",
    "if that were the case, there's no point in having s on the inside in the first place - since it's only multiplied once, not n times.\n",
    "\n",
    "Continuing, if we just move thr s to the outside withouth the extra multiplicaiton, then we will get the same final result sa in the notes.\n",
    "\n",
    "This brings up the question: Is the CDS spread a basis point amount that we pay MULTIPLE TIMES, or is thr quoted spread an amount that we are to pay ONCE? (i.e. we can divide it into as many pieces are want, but it's still ust one value, shown FULLY in the quoted spread at time 0).\n",
    "\n",
    "This changes things a bit. We will rewrite certain equations to account for this, if in fact, thw quoted spread (which is sometimes called a \"premium\") is the full amount.\n",
    "\n",
    "In insurance a \"premium\" is an amount you pay periodically (e.g. monthly or yearly), for as long as you have your insurance contract intact. This terminology may have cuased some confusion."
   ]
  },
  {
   "cell_type": "markdown",
   "metadata": {},
   "source": [
    "<font color =\"blue\" size=4> Corrected</font>\n",
    "\n",
    "From notes:\n",
    "\n",
    "(1) 1st/default leg: $(1-RR) \\times N \\times \\sum_{i=1}^{n}(DF_i * DP_i)$\n",
    "\n",
    "(2) 2nd/fixed leg: $N \\times \\sum_{i=1}^{n}(s * DF_i * SP_i)$\n",
    "\n",
    "\n",
    "Equated should mean:\n",
    "## (3) $s~=~\\frac{(1-RR)~\\times~\\sum_{i=1}^{n}(DF_i~\\times~DP_i)}{\\sum_{i=1}^{n}(DF_i~\\times~SP_i)}$\n",
    "\n",
    "---\n",
    "If we try to derive the line above:\n",
    "\n",
    "First  \n",
    "$(1-RR) \\times N \\times \\sum_{i=1}^{n}(DF_i * DP_i)~ = ~N \\times \\sum_{i=1}^{n}(s * DF_i * SP_i)$\n",
    "\n",
    "Separate the sum of $s$  \n",
    "$(1-RR) \\times N \\times \\sum_{i=1}^{n}(DF_i * DP_i)~ = ~N \\times ~s~\\times~ \\sum_{i=1}^{n}(DF_i * SP_i)$\n",
    "\n",
    "Simplify the sum of $s$ over $n$ periods  \n",
    "$(1-RR) \\times N \\times \\sum_{i=1}^{n}(DF_i * DP_i)~ = ~N \\times ~s~\\times~ \\sum_{i=1}^{n}(DF_i * SP_i)$\n",
    "\n",
    "Cancel the Notional on both sides  \n",
    "$(1-RR) \\times \\sum_{i=1}^{n}(DF_i * DP_i)~ = ~s~\\times~ \\sum_{i=1}^{n}(DF_i * SP_i)$\n",
    "\n",
    "\n",
    "Divide the left side by the right side to isolate $s$\n",
    "## $\\frac{(1-RR) \\times \\sum_{i=1}^{n}(DF_i * DP_i)} {\\sum_{i=1}^{n}(DF_i * SP_i)}$ = $s$\n",
    "\n",
    "\n",
    "---\n",
    "\n",
    "Since $s$ is fully independent of the time/time intervals, we end up with this conclusion. This also means that the quoted spread \"s\", is a one time amount, not a periodic one. This amoutn is divided over the terms it relates to."
   ]
  },
  {
   "cell_type": "code",
   "execution_count": null,
   "metadata": {},
   "outputs": [],
   "source": []
  }
 ],
 "metadata": {
  "kernelspec": {
   "display_name": "Python 3",
   "language": "python",
   "name": "python3"
  },
  "language_info": {
   "codemirror_mode": {
    "name": "ipython",
    "version": 3
   },
   "file_extension": ".py",
   "mimetype": "text/x-python",
   "name": "python",
   "nbconvert_exporter": "python",
   "pygments_lexer": "ipython3",
   "version": "3.6.5"
  }
 },
 "nbformat": 4,
 "nbformat_minor": 2
}
