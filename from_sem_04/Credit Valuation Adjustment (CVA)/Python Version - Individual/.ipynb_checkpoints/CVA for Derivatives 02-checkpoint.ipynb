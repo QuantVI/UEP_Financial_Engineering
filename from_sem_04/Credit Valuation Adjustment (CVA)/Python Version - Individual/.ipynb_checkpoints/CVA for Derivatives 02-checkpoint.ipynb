{
 "cells": [
  {
   "cell_type": "markdown",
   "metadata": {},
   "source": [
    "<font face=\"Calibri\" size=5>Credit Valuation Adjustment on Derivative Instruments </font>"
   ]
  },
  {
   "cell_type": "markdown",
   "metadata": {},
   "source": [
    "This is a Python 3 version of a CVA project.\n",
    "- The project was done in a 5 person team, over multiple weeks, in a Financial Engineering course.\n",
    "- The original code was in R, and much of the visual analysis was in Excel.\n",
    "- This is my conversion, and revision of the R code - done individually.\n",
    "\n",
    "<font color=\"blue\">Goal: A report describing applied methodologies, as well as CVA calculations for different types of derivative insturments.</font>"
   ]
  },
  {
   "cell_type": "markdown",
   "metadata": {},
   "source": [
    "\n",
    "<hr>"
   ]
  },
  {
   "cell_type": "markdown",
   "metadata": {},
   "source": [
    "<font size=2>Global Imports</font>"
   ]
  },
  {
   "cell_type": "code",
   "execution_count": 35,
   "metadata": {
    "collapsed": true
   },
   "outputs": [],
   "source": [
    "# For data supplied frmo the market, etc\n",
    "import pandas as pd\n",
    "\n",
    "# Mostly to run a cubic spline interpolation\n",
    "import numpy as np\n",
    "import matplotlib.pyplot as plt\n",
    "from scipy import interpolate"
   ]
  },
  {
   "cell_type": "markdown",
   "metadata": {},
   "source": [
    "\n",
    "<hr>"
   ]
  },
  {
   "cell_type": "markdown",
   "metadata": {},
   "source": [
    "<font face=\"Calibri\" size=4>Part 0. Description of the Derivative Instruments\n",
    "</font>\n",
    "\n",
    "- 1. Buy **EUR** sell PLN FX Forward  \n",
    "(maturity: 1 year, notional: 100 000 EUR; strike: 4.3930)\n",
    "\n",
    "\n",
    "- 2. Receiver (We receive fixed rate) PLN WIBOR 3M IRS  \n",
    "(maturity: 3 years, notional: 500 000 PLN; fixed rate: 2.2144% - paid annually)\n",
    "\n",
    "\n",
    "- 3. EUR/PLN CIRS, paid rate: fixed rate (-0,0575%) in EUR,  \n",
    "received rate WIBOR 3M, notional exchange at the beginning as well as end of the contract  \n",
    "(maturity: 3 years, notional: 100 000 EUR/ 430 000 PLN)"
   ]
  },
  {
   "cell_type": "markdown",
   "metadata": {},
   "source": [
    "<font face=\"Calibri\" size=4>Part I. Analysis of Instruments\n",
    "</font>\n",
    "- ### Mechanics\n",
    "- ### Payoff formulars & Payoff Profiles\n",
    "- ### Valuation Formulas"
   ]
  },
  {
   "cell_type": "markdown",
   "metadata": {},
   "source": [
    "<font face=\"Calibri\" size=4>Part II. Implied Defauly Probability\n",
    "</font>\n",
    "- ### CDS Contracts\n",
    "  - Mechanics\n",
    "  - Valuation\n",
    "- ### Implying Probability of Default from a CDS spread\n",
    "  - CDS bootsrapping\n",
    "  - CDS bootstrapping from sample market quotes"
   ]
  },
  {
   "cell_type": "markdown",
   "metadata": {},
   "source": [
    "_Bootsrapping is any test of metric that relies on random sampling with replacement. It allows assigning measures of accuracy __(defined in terms of bias, variance, confidence intervals, prediction error, etc)__ to sample estimates. This techinique allows estimation of the sampling distribution of almost any statistic, using ranomd sampling methods. (Wikipedia)_"
   ]
  },
  {
   "cell_type": "markdown",
   "metadata": {},
   "source": [
    "<font color=#cc33ff>__[+] Data__</font>"
   ]
  },
  {
   "cell_type": "code",
   "execution_count": 17,
   "metadata": {
    "collapsed": true
   },
   "outputs": [],
   "source": [
    "# As CDS spreads are not readily available for free,\n",
    "# this market data was supplied as part of the project.\n",
    "# The data, oringinal in .xlsx, has been copied into Pandas DataFrames.\n",
    "\n",
    "# Our CDS data has tenors of .5 years to 10 yrs. \n",
    "# We add a column for this length, in years\n",
    "\n",
    "cds_data ={\n",
    "    \"CDS_DB\":[\"DB6MEUSM=R\", \"DB1YEUSM=R\", \"DB2YEUSM=R\", \"DB3YEUSM=R\",\n",
    "              \"DB4YEUSM=R\", \"DB5YEUSM=R\", \"DB7YEUSM=R\",\"DB10YEUSM=R\"],\n",
    "    \"CDS_Tenor\":[0.5, 1, 2, 3, 4, 5, 7, 10],\n",
    "    \"Close\" :[35.88, 39.40, 69.35, 96.70,\n",
    "              123.33,152.07,196.58,223.30]}\n",
    "\n",
    "Market_CDS_Spreads = pd.DataFrame(cds_data)\n",
    "Market_EURPLN_Xr = 4.3000\n",
    "\n",
    "# The index in this DataFrame represents the number of months into the future\n",
    "Discount_Factors = pd.read_csv(\"discfac.csv\")\n",
    "# for ease of use, we also add timespan in years to the DscFctr dframe\n",
    "Discount_Factors[\"DF_Tenor\"] = [tm/12 for tm in range(61)]\n",
    "Discount_Factors = Discount_Factors[[\"DF_Tenor\",\"EUR_DF\",\n",
    "                                     \"PLN_DF\",\"EUR/PLN\"]]"
   ]
  },
  {
   "cell_type": "code",
   "execution_count": 18,
   "metadata": {},
   "outputs": [
    {
     "data": {
      "text/html": [
       "<div>\n",
       "<style scoped>\n",
       "    .dataframe tbody tr th:only-of-type {\n",
       "        vertical-align: middle;\n",
       "    }\n",
       "\n",
       "    .dataframe tbody tr th {\n",
       "        vertical-align: top;\n",
       "    }\n",
       "\n",
       "    .dataframe thead th {\n",
       "        text-align: right;\n",
       "    }\n",
       "</style>\n",
       "<table border=\"1\" class=\"dataframe\">\n",
       "  <thead>\n",
       "    <tr style=\"text-align: right;\">\n",
       "      <th></th>\n",
       "      <th>DF_Tenor</th>\n",
       "      <th>EUR_DF</th>\n",
       "      <th>PLN_DF</th>\n",
       "      <th>EUR/PLN</th>\n",
       "    </tr>\n",
       "  </thead>\n",
       "  <tbody>\n",
       "    <tr>\n",
       "      <td>0</td>\n",
       "      <td>0.000000</td>\n",
       "      <td>1.000000</td>\n",
       "      <td>1.000000</td>\n",
       "      <td>4.3000</td>\n",
       "    </tr>\n",
       "    <tr>\n",
       "      <td>1</td>\n",
       "      <td>0.083333</td>\n",
       "      <td>1.000395</td>\n",
       "      <td>0.998300</td>\n",
       "      <td>4.3090</td>\n",
       "    </tr>\n",
       "    <tr>\n",
       "      <td>2</td>\n",
       "      <td>0.166667</td>\n",
       "      <td>1.000639</td>\n",
       "      <td>0.997183</td>\n",
       "      <td>4.3149</td>\n",
       "    </tr>\n",
       "    <tr>\n",
       "      <td>3</td>\n",
       "      <td>0.250000</td>\n",
       "      <td>1.000881</td>\n",
       "      <td>0.995828</td>\n",
       "      <td>4.3218</td>\n",
       "    </tr>\n",
       "    <tr>\n",
       "      <td>4</td>\n",
       "      <td>0.333333</td>\n",
       "      <td>1.001156</td>\n",
       "      <td>0.994414</td>\n",
       "      <td>4.3292</td>\n",
       "    </tr>\n",
       "    <tr>\n",
       "      <td>...</td>\n",
       "      <td>...</td>\n",
       "      <td>...</td>\n",
       "      <td>...</td>\n",
       "      <td>...</td>\n",
       "    </tr>\n",
       "    <tr>\n",
       "      <td>56</td>\n",
       "      <td>4.666667</td>\n",
       "      <td>0.991033</td>\n",
       "      <td>0.892382</td>\n",
       "      <td>4.7754</td>\n",
       "    </tr>\n",
       "    <tr>\n",
       "      <td>57</td>\n",
       "      <td>4.750000</td>\n",
       "      <td>0.990337</td>\n",
       "      <td>0.890101</td>\n",
       "      <td>4.7842</td>\n",
       "    </tr>\n",
       "    <tr>\n",
       "      <td>58</td>\n",
       "      <td>4.833333</td>\n",
       "      <td>0.989622</td>\n",
       "      <td>0.887798</td>\n",
       "      <td>4.7932</td>\n",
       "    </tr>\n",
       "    <tr>\n",
       "      <td>59</td>\n",
       "      <td>4.916667</td>\n",
       "      <td>0.988889</td>\n",
       "      <td>0.885484</td>\n",
       "      <td>4.8021</td>\n",
       "    </tr>\n",
       "    <tr>\n",
       "      <td>60</td>\n",
       "      <td>5.000000</td>\n",
       "      <td>0.988148</td>\n",
       "      <td>0.883188</td>\n",
       "      <td>4.8110</td>\n",
       "    </tr>\n",
       "  </tbody>\n",
       "</table>\n",
       "<p>61 rows × 4 columns</p>\n",
       "</div>"
      ],
      "text/plain": [
       "    DF_Tenor    EUR_DF    PLN_DF  EUR/PLN\n",
       "0   0.000000  1.000000  1.000000   4.3000\n",
       "1   0.083333  1.000395  0.998300   4.3090\n",
       "2   0.166667  1.000639  0.997183   4.3149\n",
       "3   0.250000  1.000881  0.995828   4.3218\n",
       "4   0.333333  1.001156  0.994414   4.3292\n",
       "..       ...       ...       ...      ...\n",
       "56  4.666667  0.991033  0.892382   4.7754\n",
       "57  4.750000  0.990337  0.890101   4.7842\n",
       "58  4.833333  0.989622  0.887798   4.7932\n",
       "59  4.916667  0.988889  0.885484   4.8021\n",
       "60  5.000000  0.988148  0.883188   4.8110\n",
       "\n",
       "[61 rows x 4 columns]"
      ]
     },
     "execution_count": 18,
     "metadata": {},
     "output_type": "execute_result"
    }
   ],
   "source": [
    "Discount_Factors"
   ]
  },
  {
   "cell_type": "code",
   "execution_count": 19,
   "metadata": {},
   "outputs": [
    {
     "name": "stdout",
     "output_type": "stream",
     "text": [
      "        CDS_DB  CDS_Tenor   Close\n",
      "0   DB6MEUSM=R        0.5   35.88\n",
      "1   DB1YEUSM=R        1.0   39.40\n",
      "2   DB2YEUSM=R        2.0   69.35\n",
      "3   DB3YEUSM=R        3.0   96.70\n",
      "4   DB4YEUSM=R        4.0  123.33\n",
      "5   DB5YEUSM=R        5.0  152.07\n",
      "6   DB7YEUSM=R        7.0  196.58\n",
      "7  DB10YEUSM=R       10.0  223.30\n",
      "\n",
      "EUR/PLN : 4.3 \n",
      "\n",
      "---- Discount_Factors ----\n",
      "\n",
      "<class 'pandas.core.frame.DataFrame'>\n",
      "RangeIndex: 61 entries, 0 to 60\n",
      "Data columns (total 4 columns):\n",
      "DF_Tenor    61 non-null float64\n",
      "EUR_DF      61 non-null float64\n",
      "PLN_DF      61 non-null float64\n",
      "EUR/PLN     61 non-null float64\n",
      "dtypes: float64(4)\n",
      "memory usage: 2.0 KB\n",
      "None\n",
      "   DF_Tenor    EUR_DF    PLN_DF  EUR/PLN\n",
      "0  0.000000  1.000000  1.000000   4.3000\n",
      "1  0.083333  1.000395  0.998300   4.3090\n",
      "2  0.166667  1.000639  0.997183   4.3149\n",
      "3  0.250000  1.000881  0.995828   4.3218\n",
      "4  0.333333  1.001156  0.994414   4.3292 \n",
      "     DF_Tenor    EUR_DF    PLN_DF  EUR/PLN\n",
      "56  4.666667  0.991033  0.892382   4.7754\n",
      "57  4.750000  0.990337  0.890101   4.7842\n",
      "58  4.833333  0.989622  0.887798   4.7932\n",
      "59  4.916667  0.988889  0.885484   4.8021\n",
      "60  5.000000  0.988148  0.883188   4.8110\n"
     ]
    }
   ],
   "source": [
    "print(Market_CDS_Spreads)\n",
    "print(\"\\nEUR/PLN :\",Market_EURPLN_Xr,'\\n')\n",
    "print(\"---- Discount_Factors ----\\n\")\n",
    "print(Discount_Factors.info())\n",
    "print(Discount_Factors.head(),'\\n',Discount_Factors.tail())"
   ]
  },
  {
   "cell_type": "markdown",
   "metadata": {},
   "source": [
    "Given the information in `Market_CDS_Spreads`, we would like to us an interpolaiton method, to create spread values for monthly intervals up to the duration of our longest insturment: 3 years.\n",
    "\n",
    "The `Market_CDS_Spreads` serve as imput to a function for curve-fitting to find these intermediate values, not explicitly in the list of spread tenors. For this approximation, we will use a spline method; namely, cubic splines.\n",
    "\n",
    "__Cubic Splines__  \n",
    "For each $n$ points of data, the spline method fits a cubic function through the points. By through, we mean that specific points in the data must also lie on the function. Additionally, the method adds constrains/requirements that the first and secon derivatives if the curves fit over various intervals match. Even though, the process is peicewise, the added requirements create a smooth approximation."
   ]
  },
  {
   "cell_type": "code",
   "execution_count": 52,
   "metadata": {},
   "outputs": [],
   "source": [
    "# Load the CDS Tenors into a var\n",
    "cdstenor_tm = Market_CDS_Spreads.CDS_Tenor\n",
    "cdsspread_amt = Market_CDS_Spreads.Close"
   ]
  },
  {
   "cell_type": "code",
   "execution_count": 53,
   "metadata": {
    "collapsed": true
   },
   "outputs": [],
   "source": [
    "# Fit spline to the data. default for k = 3 for cubic. s is smoothing level\n",
    "tck = interpolate.splrep(x = cdstenor_tm, y = cdsspread_amt, s=0)"
   ]
  },
  {
   "cell_type": "code",
   "execution_count": 54,
   "metadata": {},
   "outputs": [
    {
     "data": {
      "text/plain": [
       "(array([ 0.5,  0.5,  0.5,  0.5,  2. ,  3. ,  4. ,  5. , 10. , 10. , 10. ,\n",
       "        10. ]), array([ 35.88      ,  32.23146303,  67.57692568,  96.46494703,\n",
       "        122.63642602, 193.41324605, 221.70253173, 223.3       ,\n",
       "          0.        ,   0.        ,   0.        ,   0.        ]), 3)"
      ]
     },
     "execution_count": 54,
     "metadata": {},
     "output_type": "execute_result"
    }
   ],
   "source": [
    "tck"
   ]
  },
  {
   "cell_type": "markdown",
   "metadata": {},
   "source": [
    "We now use the fitted data to created interpolated points a the monthly intervals for our instruments."
   ]
  },
  {
   "cell_type": "code",
   "execution_count": 55,
   "metadata": {},
   "outputs": [
    {
     "data": {
      "text/plain": [
       "34    2.833333\n",
       "35    2.916667\n",
       "36    3.000000\n",
       "Name: DF_Tenor, dtype: float64"
      ]
     },
     "execution_count": 55,
     "metadata": {},
     "output_type": "execute_result"
    }
   ],
   "source": [
    "# Load the 36 months time interval into a separate var\n",
    "month_dur = Discount_Factors.DF_Tenor[:37]\n",
    "month_dur[-3:]"
   ]
  },
  {
   "cell_type": "code",
   "execution_count": 56,
   "metadata": {
    "collapsed": true
   },
   "outputs": [],
   "source": [
    "interp_CDS_amt = interpolate.splev(month_dur, tck, der=0)"
   ]
  },
  {
   "cell_type": "code",
   "execution_count": 57,
   "metadata": {},
   "outputs": [
    {
     "data": {
      "text/plain": [
       "array([48.93054304, 45.32036668, 42.32558519, 39.91517819, 38.05812526,\n",
       "       36.72340599, 35.88      , 35.49688687, 35.54304619, 35.98745757,\n",
       "       36.79910061, 37.94695488, 39.4       , 41.12721556, 43.09758115,\n",
       "       45.28007637, 47.64368081, 50.15737408, 52.79013576, 55.51094546,\n",
       "       58.28878276, 61.09262728, 63.89145859, 66.6542563 , 69.35      ,\n",
       "       71.95433753, 74.46958967, 76.90474545, 79.26879389, 81.57072401,\n",
       "       83.81952484, 86.0241854 , 88.19369471, 90.33704181, 92.4632157 ,\n",
       "       94.58120543, 96.7       ])"
      ]
     },
     "execution_count": 57,
     "metadata": {},
     "output_type": "execute_result"
    }
   ],
   "source": [
    "interp_CDS_amt"
   ]
  },
  {
   "cell_type": "markdown",
   "metadata": {},
   "source": [
    "$\\uparrow$ Above, in `inter_CDS_amt` we can see values from the `Close` column show up, as they should, for know tenor"
   ]
  },
  {
   "cell_type": "code",
   "execution_count": 20,
   "metadata": {
    "collapsed": true
   },
   "outputs": [],
   "source": [
    "x = np.arange(0, 2*np.pi+np.pi/4, 2*np.pi/8)\n",
    "y = np.sin(x)\n",
    "tck = interpolate.splrep(x, y, s=0)\n",
    "xnew = np.arange(0, 2*np.pi, np.pi/50)\n",
    "ynew = interpolate.splev(xnew, tck, der=0)"
   ]
  },
  {
   "cell_type": "code",
   "execution_count": 21,
   "metadata": {},
   "outputs": [
    {
     "data": {
      "text/plain": [
       "array([0.        , 0.78539816, 1.57079633, 2.35619449, 3.14159265,\n",
       "       3.92699082, 4.71238898, 5.49778714, 6.28318531])"
      ]
     },
     "execution_count": 21,
     "metadata": {},
     "output_type": "execute_result"
    }
   ],
   "source": [
    "x"
   ]
  },
  {
   "cell_type": "code",
   "execution_count": 22,
   "metadata": {},
   "outputs": [
    {
     "data": {
      "text/plain": [
       "array([ 0.00000000e+00,  7.07106781e-01,  1.00000000e+00,  7.07106781e-01,\n",
       "        1.22464680e-16, -7.07106781e-01, -1.00000000e+00, -7.07106781e-01,\n",
       "       -2.44929360e-16])"
      ]
     },
     "execution_count": 22,
     "metadata": {},
     "output_type": "execute_result"
    }
   ],
   "source": [
    "y"
   ]
  },
  {
   "cell_type": "code",
   "execution_count": 32,
   "metadata": {},
   "outputs": [
    {
     "data": {
      "text/plain": [
       "(array([0.        , 0.        , 0.        , 0.        , 1.57079633,\n",
       "        2.35619449, 3.14159265, 3.92699082, 4.71238898, 6.28318531,\n",
       "        6.28318531, 6.28318531, 6.28318531]),\n",
       " array([ 3.44265545e-18,  5.54608516e-01,  1.21921009e+00,  7.83113675e-01,\n",
       "         2.45205789e-16, -7.83113675e-01, -1.21921009e+00, -5.54608516e-01,\n",
       "        -2.44929360e-16,  0.00000000e+00,  0.00000000e+00,  0.00000000e+00,\n",
       "         0.00000000e+00]),\n",
       " 3)"
      ]
     },
     "execution_count": 32,
     "metadata": {},
     "output_type": "execute_result"
    }
   ],
   "source": [
    "tck"
   ]
  },
  {
   "cell_type": "code",
   "execution_count": 33,
   "metadata": {},
   "outputs": [
    {
     "data": {
      "text/plain": [
       "array([0.        , 0.06283185, 0.12566371, 0.18849556, 0.25132741,\n",
       "       0.31415927, 0.37699112, 0.43982297, 0.50265482, 0.56548668,\n",
       "       0.62831853, 0.69115038, 0.75398224, 0.81681409, 0.87964594,\n",
       "       0.9424778 , 1.00530965, 1.0681415 , 1.13097336, 1.19380521,\n",
       "       1.25663706, 1.31946891, 1.38230077, 1.44513262, 1.50796447,\n",
       "       1.57079633, 1.63362818, 1.69646003, 1.75929189, 1.82212374,\n",
       "       1.88495559, 1.94778745, 2.0106193 , 2.07345115, 2.136283  ,\n",
       "       2.19911486, 2.26194671, 2.32477856, 2.38761042, 2.45044227,\n",
       "       2.51327412, 2.57610598, 2.63893783, 2.70176968, 2.76460154,\n",
       "       2.82743339, 2.89026524, 2.95309709, 3.01592895, 3.0787608 ,\n",
       "       3.14159265, 3.20442451, 3.26725636, 3.33008821, 3.39292007,\n",
       "       3.45575192, 3.51858377, 3.58141563, 3.64424748, 3.70707933,\n",
       "       3.76991118, 3.83274304, 3.89557489, 3.95840674, 4.0212386 ,\n",
       "       4.08407045, 4.1469023 , 4.20973416, 4.27256601, 4.33539786,\n",
       "       4.39822972, 4.46106157, 4.52389342, 4.58672527, 4.64955713,\n",
       "       4.71238898, 4.77522083, 4.83805269, 4.90088454, 4.96371639,\n",
       "       5.02654825, 5.0893801 , 5.15221195, 5.2150438 , 5.27787566,\n",
       "       5.34070751, 5.40353936, 5.46637122, 5.52920307, 5.59203492,\n",
       "       5.65486678, 5.71769863, 5.78053048, 5.84336234, 5.90619419,\n",
       "       5.96902604, 6.03185789, 6.09468975, 6.1575216 , 6.22035345])"
      ]
     },
     "execution_count": 33,
     "metadata": {},
     "output_type": "execute_result"
    }
   ],
   "source": [
    "xnew"
   ]
  },
  {
   "cell_type": "code",
   "execution_count": 34,
   "metadata": {},
   "outputs": [
    {
     "data": {
      "text/plain": [
       "array([ 3.44265545e-18,  6.59965571e-02,  1.30795909e-01,  1.94271640e-01,\n",
       "        2.56297338e-01,  3.16746589e-01,  3.75492977e-01,  4.32410090e-01,\n",
       "        4.87371513e-01,  5.40250833e-01,  5.90921634e-01,  6.39257504e-01,\n",
       "        6.85132028e-01,  7.28418792e-01,  7.68991383e-01,  8.06723386e-01,\n",
       "        8.41488386e-01,  8.73159971e-01,  9.01611726e-01,  9.26717238e-01,\n",
       "        9.48350091e-01,  9.66383873e-01,  9.80692168e-01,  9.91148564e-01,\n",
       "        9.97626646e-01,  1.00000000e+00,  9.98180781e-01,  9.92235418e-01,\n",
       "        9.82268909e-01,  9.68386253e-01,  9.50692448e-01,  9.29292492e-01,\n",
       "        9.04291383e-01,  8.75794119e-01,  8.43905699e-01,  8.08731120e-01,\n",
       "        7.70375381e-01,  7.28943480e-01,  6.84543093e-01,  6.37343464e-01,\n",
       "        5.87575410e-01,  5.35472425e-01,  4.81268001e-01,  4.25195631e-01,\n",
       "        3.67488810e-01,  3.08381029e-01,  2.48105782e-01,  1.86896563e-01,\n",
       "        1.24986864e-01,  6.26101785e-02, -2.49800181e-16, -6.26101785e-02,\n",
       "       -1.24986864e-01, -1.86896563e-01, -2.48105782e-01, -3.08381029e-01,\n",
       "       -3.67488810e-01, -4.25195631e-01, -4.81268001e-01, -5.35472425e-01,\n",
       "       -5.87575410e-01, -6.37343464e-01, -6.84543093e-01, -7.28943480e-01,\n",
       "       -7.70375381e-01, -8.08731120e-01, -8.43905699e-01, -8.75794119e-01,\n",
       "       -9.04291383e-01, -9.29292492e-01, -9.50692448e-01, -9.68386253e-01,\n",
       "       -9.82268909e-01, -9.92235418e-01, -9.98180781e-01, -1.00000000e+00,\n",
       "       -9.97626646e-01, -9.91148564e-01, -9.80692168e-01, -9.66383873e-01,\n",
       "       -9.48350091e-01, -9.26717238e-01, -9.01611726e-01, -8.73159971e-01,\n",
       "       -8.41488386e-01, -8.06723386e-01, -7.68991383e-01, -7.28418792e-01,\n",
       "       -6.85132028e-01, -6.39257504e-01, -5.90921634e-01, -5.40250833e-01,\n",
       "       -4.87371513e-01, -4.32410090e-01, -3.75492977e-01, -3.16746589e-01,\n",
       "       -2.56297338e-01, -1.94271640e-01, -1.30795909e-01, -6.59965571e-02])"
      ]
     },
     "execution_count": 34,
     "metadata": {},
     "output_type": "execute_result"
    }
   ],
   "source": [
    "ynew"
   ]
  },
  {
   "cell_type": "code",
   "execution_count": null,
   "metadata": {
    "collapsed": true
   },
   "outputs": [],
   "source": []
  },
  {
   "cell_type": "code",
   "execution_count": 28,
   "metadata": {},
   "outputs": [
    {
     "data": {
      "image/png": "[encoded data removed]",
      "text/plain": [
       "<Figure size 720x432 with 1 Axes>"
      ]
     },
     "metadata": {},
     "output_type": "display_data"
    }
   ],
   "source": [
    "plt.figure(figsize=(10,6))\n",
    "plt.plot(x, y, 'x', xnew, ynew, xnew, np.sin(xnew), x, y, 'b')\n",
    "plt.legend(['Linear', 'Cubic Spline', 'True'])\n",
    "plt.axis([-0.05, 6.33, -1.05, 1.05])\n",
    "plt.title('Cubic-spline interpolation')\n",
    "plt.show()"
   ]
  },
  {
   "cell_type": "code",
   "execution_count": 31,
   "metadata": {},
   "outputs": [
    {
     "data": {
      "image/png": "[encoded data removed]",
      "text/plain": [
       "<Figure size 720x432 with 1 Axes>"
      ]
     },
     "metadata": {},
     "output_type": "display_data"
    }
   ],
   "source": [
    "plt.figure(figsize=(10,6))\n",
    "#plt.plot(x, y, 'x', xnew, ynew, xnew, np.sin(xnew), x, y, 'b')\n",
    "plt.plot(x, y, 'x')\n",
    "plt.plot(xnew, ynew) \n",
    "plt.plot(xnew, np.sin(xnew))#, x, y, 'b')\n",
    "plt.legend(['Linear', 'Cubic Spline', 'True'])\n",
    "plt.axis([-0.05, 6.33, -1.05, 1.05])\n",
    "plt.title('Cubic-spline interpolation')\n",
    "plt.show()"
   ]
  },
  {
   "cell_type": "code",
   "execution_count": null,
   "metadata": {
    "collapsed": true
   },
   "outputs": [],
   "source": []
  },
  {
   "cell_type": "code",
   "execution_count": null,
   "metadata": {
    "collapsed": true
   },
   "outputs": [],
   "source": []
  },
  {
   "cell_type": "code",
   "execution_count": null,
   "metadata": {
    "collapsed": true
   },
   "outputs": [],
   "source": []
  },
  {
   "cell_type": "code",
   "execution_count": null,
   "metadata": {
    "collapsed": true
   },
   "outputs": [],
   "source": []
  },
  {
   "cell_type": "code",
   "execution_count": null,
   "metadata": {
    "collapsed": true
   },
   "outputs": [],
   "source": []
  },
  {
   "cell_type": "code",
   "execution_count": null,
   "metadata": {
    "collapsed": true
   },
   "outputs": [],
   "source": []
  },
  {
   "cell_type": "markdown",
   "metadata": {},
   "source": [
    "<font face=\"Calibri\" size=4>Part III. Risk Factors Simulation\n",
    "</font>\n",
    "- ### Simulation Methodolody\n",
    "- ### Calibration to Market Data\n",
    "- ### Simulation: 3 years, 1 month time step, $M$ simulations"
   ]
  },
  {
   "cell_type": "markdown",
   "metadata": {},
   "source": [
    "<font face=\"Calibri\" size=4>Part IV. Calculation of Expoected Exposure Profiles\n",
    "</font>\n",
    "- ### Expected Exposure (EE) profile for each derivative in question\n",
    "- ### Identification and presentation of the key features of EE, per derivative\n",
    "- ### Sensitivity analysis of volatility changes, on Expected Exposure"
   ]
  },
  {
   "cell_type": "markdown",
   "metadata": {},
   "source": [
    "<font face=\"Calibri\" size=4>Part V. CVA Calculation for Each Derivative\n",
    "</font>\n",
    "- ### CVA per derivative\n",
    "- ### Sensitivity analysis of volatility changes on CVA"
   ]
  },
  {
   "cell_type": "code",
   "execution_count": null,
   "metadata": {
    "collapsed": true
   },
   "outputs": [],
   "source": []
  }
 ],
 "metadata": {
  "kernelspec": {
   "display_name": "Python 3",
   "language": "python",
   "name": "python3"
  },
  "language_info": {
   "codemirror_mode": {
    "name": "ipython",
    "version": 3
   },
   "file_extension": ".py",
   "mimetype": "text/x-python",
   "name": "python",
   "nbconvert_exporter": "python",
   "pygments_lexer": "ipython3",
   "version": "3.6.3"
  }
 },
 "nbformat": 4,
 "nbformat_minor": 2
}
