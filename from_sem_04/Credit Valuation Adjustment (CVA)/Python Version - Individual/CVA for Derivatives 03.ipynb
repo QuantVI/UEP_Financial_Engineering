{
 "cells": [
  {
   "cell_type": "markdown",
   "metadata": {},
   "source": [
    "<font face=\"Calibri\" size=5>Credit Valuation Adjustment on Derivative Instruments </font>"
   ]
  },
  {
   "cell_type": "markdown",
   "metadata": {},
   "source": [
    "This is a Python 3 version of a CVA project.\n",
    "- The project was done in a 5 person team, over multiple weeks, in a Financial Engineering course.\n",
    "- The original code was in R, and much of the visual analysis was in Excel.\n",
    "- This is my conversion, and revision of the R code - done individually.\n",
    "\n",
    "<font color=\"blue\">Goal: A report describing applied methodologies, as well as CVA calculations for different types of derivative insturments.</font>"
   ]
  },
  {
   "cell_type": "markdown",
   "metadata": {},
   "source": [
    "\n",
    "<hr>"
   ]
  },
  {
   "cell_type": "markdown",
   "metadata": {},
   "source": [
    "<font size=2>Global Imports</font>"
   ]
  },
  {
   "cell_type": "code",
   "execution_count": 1,
   "metadata": {
    "collapsed": true
   },
   "outputs": [],
   "source": [
    "# For data supplied frmo the market, etc\n",
    "import pandas as pd\n",
    "\n",
    "# Mostly to run a cubic spline interpolation\n",
    "import numpy as np\n",
    "import matplotlib.pyplot as plt\n",
    "from scipy import interpolate"
   ]
  },
  {
   "cell_type": "markdown",
   "metadata": {},
   "source": [
    "\n",
    "<hr>"
   ]
  },
  {
   "cell_type": "markdown",
   "metadata": {},
   "source": [
    "<font face=\"Calibri\" size=4>Part 0. Description of the Derivative Instruments\n",
    "</font>\n",
    "\n",
    "- 1. Buy **EUR** sell PLN FX Forward  \n",
    "(maturity: 1 year, notional: 100 000 EUR; strike: 4.3930)\n",
    "\n",
    "\n",
    "- 2. Receiver (We receive fixed rate) PLN WIBOR 3M IRS  \n",
    "(maturity: 3 years, notional: 500 000 PLN; fixed rate: 2.2144% - paid annually)\n",
    "\n",
    "\n",
    "- 3. EUR/PLN CIRS, paid rate: fixed rate (-0,0575%) in EUR,  \n",
    "received rate WIBOR 3M, notional exchange at the beginning as well as end of the contract  \n",
    "(maturity: 3 years, notional: 100 000 EUR/ 430 000 PLN)"
   ]
  },
  {
   "cell_type": "markdown",
   "metadata": {},
   "source": [
    "<font face=\"Calibri\" size=4>Part I. Analysis of Instruments\n",
    "</font>\n",
    "- ### Mechanics\n",
    "- ### Payoff formulars & Payoff Profiles\n",
    "- ### Valuation Formulas"
   ]
  },
  {
   "cell_type": "markdown",
   "metadata": {},
   "source": [
    "<font face=\"Calibri\" size=4>Part II. Implied Defauly Probability\n",
    "</font>\n",
    "- ### CDS Contracts\n",
    "  - Mechanics\n",
    "  - Valuation\n",
    "- ### Implying Probability of Default from a CDS spread\n",
    "  - CDS bootsrapping\n",
    "  - CDS bootstrapping from sample market quotes"
   ]
  },
  {
   "cell_type": "markdown",
   "metadata": {},
   "source": [
    "<font color=#cc33ff>__[+] CDS Contracts Mechanics and Valuation__</font>"
   ]
  },
  {
   "cell_type": "markdown",
   "metadata": {},
   "source": [
    "Credit Default Swaps are a type of credit derivatives in which the credit exposure of a loan or a fixed income security is transferred to the swap counterparty for a fees. The buyer of the CDS is protected from the risk of the loan defaulting.\n",
    "\n",
    "A credit default swap (CDS) is a contract that gives the buyer of the contract a right to receive compensation from the seller of the contract in the event of default of a third party. The buyer of the contract is typically a bondholder who is looking to transfer his credit exposure to another party. The seller is typically a bank which earns from the premiums it receives from the buyer.\n",
    "\n",
    "Each CDS has a notional amount and it requires the buyer to pay a premium called CDS spread.\n",
    "\n",
    "The seller of the CDS pays the buyer an amount equal to the loss incurred by the buyer on occurrence of a credit event. The credit event is binary in nature, i.e. it occurs, or it doesn’t. Typical credit events include (a) a filing for bankruptcy by the third party on whose bond the CDS was issued, (b) any failure by the third party to pay interest on its bonds and (c) any restructuring of the debt.\n",
    "\n",
    "\n",
    "Payout Amount = N x Payout Ratio = N x (1 - Recovery Rate)\n",
    "\n",
    "Where N is the notional amount\n",
    "\n",
    "During the life of the CDS, the profit (loss) that accrues to the buyer (seller) of the CDS can be approximated as follows:\n",
    "\n",
    "Profit to buyer of CDS = $\\Delta CDS*N*D$\n",
    "\n",
    "ΔCDS is the basis point change in credit spread, N is the notional amount and D is the duration of the bond.\n",
    "\n",
    "It follows that if the default spread increases over the life of the CDS, the buyer gains and if the spread shrinks the seller gains.\n",
    "\n"
   ]
  },
  {
   "cell_type": "markdown",
   "metadata": {},
   "source": [
    "<font color=#cc33ff>__[+] Data__</font>"
   ]
  },
  {
   "cell_type": "code",
   "execution_count": 2,
   "metadata": {
    "collapsed": true
   },
   "outputs": [],
   "source": [
    "# As CDS spreads are not readily available for free,\n",
    "# this market data was supplied as part of the project.\n",
    "# The data, oringinal in .xlsx, has been copied into Pandas DataFrames.\n",
    "\n",
    "# Our CDS data has tenors of .5 years to 10 yrs. \n",
    "# We add a column for this length, in years\n",
    "\n",
    "cds_data ={\n",
    "    \"CDS_DB\":[\"DB6MEUSM=R\", \"DB1YEUSM=R\", \"DB2YEUSM=R\", \"DB3YEUSM=R\",\n",
    "              \"DB4YEUSM=R\", \"DB5YEUSM=R\", \"DB7YEUSM=R\",\"DB10YEUSM=R\"],\n",
    "    \"CDS_Tenor\":[0.5, 1, 2, 3, 4, 5, 7, 10],\n",
    "    \"Close\" :[35.88, 39.40, 69.35, 96.70,\n",
    "              123.33,152.07,196.58,223.30]}\n",
    "\n",
    "Market_CDS_Spreads = pd.DataFrame(cds_data)\n",
    "Market_EURPLN_Xr = 4.3000\n",
    "\n",
    "# The index in this DataFrame represents the number of months into the future\n",
    "Discount_Factors = pd.read_csv(\"discfac.csv\")\n",
    "# for ease of use, we also add timespan in years to the DscFctr dframe\n",
    "Discount_Factors[\"DF_Tenor\"] = [tm/12 for tm in range(61)]\n",
    "Discount_Factors = Discount_Factors[[\"DF_Tenor\",\"EUR_DF\",\n",
    "                                     \"PLN_DF\",\"EUR/PLN\"]]"
   ]
  },
  {
   "cell_type": "code",
   "execution_count": 3,
   "metadata": {},
   "outputs": [
    {
     "data": {
      "text/html": [
       "<div>\n",
       "<style scoped>\n",
       "    .dataframe tbody tr th:only-of-type {\n",
       "        vertical-align: middle;\n",
       "    }\n",
       "\n",
       "    .dataframe tbody tr th {\n",
       "        vertical-align: top;\n",
       "    }\n",
       "\n",
       "    .dataframe thead th {\n",
       "        text-align: right;\n",
       "    }\n",
       "</style>\n",
       "<table border=\"1\" class=\"dataframe\">\n",
       "  <thead>\n",
       "    <tr style=\"text-align: right;\">\n",
       "      <th></th>\n",
       "      <th>DF_Tenor</th>\n",
       "      <th>EUR_DF</th>\n",
       "      <th>PLN_DF</th>\n",
       "      <th>EUR/PLN</th>\n",
       "    </tr>\n",
       "  </thead>\n",
       "  <tbody>\n",
       "    <tr>\n",
       "      <td>0</td>\n",
       "      <td>0.000000</td>\n",
       "      <td>1.000000</td>\n",
       "      <td>1.000000</td>\n",
       "      <td>4.3000</td>\n",
       "    </tr>\n",
       "    <tr>\n",
       "      <td>1</td>\n",
       "      <td>0.083333</td>\n",
       "      <td>1.000395</td>\n",
       "      <td>0.998300</td>\n",
       "      <td>4.3090</td>\n",
       "    </tr>\n",
       "    <tr>\n",
       "      <td>2</td>\n",
       "      <td>0.166667</td>\n",
       "      <td>1.000639</td>\n",
       "      <td>0.997183</td>\n",
       "      <td>4.3149</td>\n",
       "    </tr>\n",
       "    <tr>\n",
       "      <td>3</td>\n",
       "      <td>0.250000</td>\n",
       "      <td>1.000881</td>\n",
       "      <td>0.995828</td>\n",
       "      <td>4.3218</td>\n",
       "    </tr>\n",
       "    <tr>\n",
       "      <td>4</td>\n",
       "      <td>0.333333</td>\n",
       "      <td>1.001156</td>\n",
       "      <td>0.994414</td>\n",
       "      <td>4.3292</td>\n",
       "    </tr>\n",
       "    <tr>\n",
       "      <td>...</td>\n",
       "      <td>...</td>\n",
       "      <td>...</td>\n",
       "      <td>...</td>\n",
       "      <td>...</td>\n",
       "    </tr>\n",
       "    <tr>\n",
       "      <td>56</td>\n",
       "      <td>4.666667</td>\n",
       "      <td>0.991033</td>\n",
       "      <td>0.892382</td>\n",
       "      <td>4.7754</td>\n",
       "    </tr>\n",
       "    <tr>\n",
       "      <td>57</td>\n",
       "      <td>4.750000</td>\n",
       "      <td>0.990337</td>\n",
       "      <td>0.890101</td>\n",
       "      <td>4.7842</td>\n",
       "    </tr>\n",
       "    <tr>\n",
       "      <td>58</td>\n",
       "      <td>4.833333</td>\n",
       "      <td>0.989622</td>\n",
       "      <td>0.887798</td>\n",
       "      <td>4.7932</td>\n",
       "    </tr>\n",
       "    <tr>\n",
       "      <td>59</td>\n",
       "      <td>4.916667</td>\n",
       "      <td>0.988889</td>\n",
       "      <td>0.885484</td>\n",
       "      <td>4.8021</td>\n",
       "    </tr>\n",
       "    <tr>\n",
       "      <td>60</td>\n",
       "      <td>5.000000</td>\n",
       "      <td>0.988148</td>\n",
       "      <td>0.883188</td>\n",
       "      <td>4.8110</td>\n",
       "    </tr>\n",
       "  </tbody>\n",
       "</table>\n",
       "<p>61 rows × 4 columns</p>\n",
       "</div>"
      ],
      "text/plain": [
       "    DF_Tenor    EUR_DF    PLN_DF  EUR/PLN\n",
       "0   0.000000  1.000000  1.000000   4.3000\n",
       "1   0.083333  1.000395  0.998300   4.3090\n",
       "2   0.166667  1.000639  0.997183   4.3149\n",
       "3   0.250000  1.000881  0.995828   4.3218\n",
       "4   0.333333  1.001156  0.994414   4.3292\n",
       "..       ...       ...       ...      ...\n",
       "56  4.666667  0.991033  0.892382   4.7754\n",
       "57  4.750000  0.990337  0.890101   4.7842\n",
       "58  4.833333  0.989622  0.887798   4.7932\n",
       "59  4.916667  0.988889  0.885484   4.8021\n",
       "60  5.000000  0.988148  0.883188   4.8110\n",
       "\n",
       "[61 rows x 4 columns]"
      ]
     },
     "execution_count": 3,
     "metadata": {},
     "output_type": "execute_result"
    }
   ],
   "source": [
    "Discount_Factors"
   ]
  },
  {
   "cell_type": "code",
   "execution_count": 4,
   "metadata": {},
   "outputs": [
    {
     "name": "stdout",
     "output_type": "stream",
     "text": [
      "        CDS_DB  CDS_Tenor   Close\n",
      "0   DB6MEUSM=R        0.5   35.88\n",
      "1   DB1YEUSM=R        1.0   39.40\n",
      "2   DB2YEUSM=R        2.0   69.35\n",
      "3   DB3YEUSM=R        3.0   96.70\n",
      "4   DB4YEUSM=R        4.0  123.33\n",
      "5   DB5YEUSM=R        5.0  152.07\n",
      "6   DB7YEUSM=R        7.0  196.58\n",
      "7  DB10YEUSM=R       10.0  223.30\n",
      "\n",
      "EUR/PLN : 4.3 \n",
      "\n"
     ]
    }
   ],
   "source": [
    "print(Market_CDS_Spreads)\n",
    "print(\"\\nEUR/PLN :\",Market_EURPLN_Xr,'\\n')\n",
    "#print(\"---- Discount_Factors ----\\n\")\n",
    "#print(Discount_Factors.info())\n",
    "#print(Discount_Factors.head(),'\\n',Discount_Factors.tail())"
   ]
  },
  {
   "cell_type": "markdown",
   "metadata": {},
   "source": [
    "<font color=#cc33ff>__[+] Implying PD from CDS spreads: Bootstrapping__</font>"
   ]
  },
  {
   "cell_type": "markdown",
   "metadata": {},
   "source": [
    "_Bootsrapping is any test of metric that relies on random sampling with replacement. It allows assigning measures of accuracy __(defined in terms of bias, variance, confidence intervals, prediction error, etc)__ to sample estimates. This techinique allows estimation of the sampling distribution of almost any statistic, using ranomd sampling methods. (Wikipedia)_"
   ]
  },
  {
   "cell_type": "markdown",
   "metadata": {},
   "source": [
    "Given the information in `Market_CDS_Spreads`, we would like to us an interpolaiton method, to create spread values for monthly intervals up to the duration of our longest insturment: 3 years.\n",
    "\n",
    "The `Market_CDS_Spreads` serve as imput to a function for curve-fitting to find these intermediate values, not explicitly in the list of spread tenors. For this approximation, we will use a spline method; namely, cubic splines.\n",
    "\n",
    "__Cubic Splines__  \n",
    "For each $n$ points of data, the spline method fits a cubic function through the points. By _through_, we mean that specific points in the data must also lie on the function. Additionally, the method adds constrains/requirements that the $first$ and $second$ derivatives of the curves, fit over various intervals, match. Even though, the process is piecewise, the added requirements create a smooth approximation."
   ]
  },
  {
   "cell_type": "code",
   "execution_count": 5,
   "metadata": {
    "collapsed": true
   },
   "outputs": [],
   "source": [
    "# Load the CDS Tenors into a var\n",
    "cdstenor_tm = Market_CDS_Spreads.CDS_Tenor\n",
    "cdsspread_amt = Market_CDS_Spreads.Close"
   ]
  },
  {
   "cell_type": "code",
   "execution_count": 6,
   "metadata": {
    "collapsed": true
   },
   "outputs": [],
   "source": [
    "# Fit spline to the data. default for k = 3 for cubic. s is smoothing level\n",
    "tck = interpolate.splrep(x = cdstenor_tm, y = cdsspread_amt, s=0)"
   ]
  },
  {
   "cell_type": "code",
   "execution_count": 7,
   "metadata": {},
   "outputs": [
    {
     "data": {
      "text/plain": [
       "(array([ 0.5,  0.5,  0.5,  0.5,  2. ,  3. ,  4. ,  5. , 10. , 10. , 10. ,\n",
       "        10. ]), array([ 35.88      ,  32.23146303,  67.57692568,  96.46494703,\n",
       "        122.63642602, 193.41324605, 221.70253173, 223.3       ,\n",
       "          0.        ,   0.        ,   0.        ,   0.        ]), 3)"
      ]
     },
     "execution_count": 7,
     "metadata": {},
     "output_type": "execute_result"
    }
   ],
   "source": [
    "tck"
   ]
  },
  {
   "cell_type": "markdown",
   "metadata": {},
   "source": [
    "We now use the fitted data to created interpolated points at the monthly intervals for our instruments."
   ]
  },
  {
   "cell_type": "code",
   "execution_count": 8,
   "metadata": {},
   "outputs": [
    {
     "data": {
      "text/plain": [
       "34    2.833333\n",
       "35    2.916667\n",
       "36    3.000000\n",
       "Name: DF_Tenor, dtype: float64"
      ]
     },
     "execution_count": 8,
     "metadata": {},
     "output_type": "execute_result"
    }
   ],
   "source": [
    "# Load the 36-month time interval into a separate var\n",
    "month_dur = Discount_Factors.DF_Tenor[:37]\n",
    "month_dur[-3:]"
   ]
  },
  {
   "cell_type": "code",
   "execution_count": 9,
   "metadata": {
    "collapsed": true
   },
   "outputs": [],
   "source": [
    "interp_CDS_amt = interpolate.splev(month_dur, tck, der=0)"
   ]
  },
  {
   "cell_type": "code",
   "execution_count": 10,
   "metadata": {},
   "outputs": [
    {
     "data": {
      "text/plain": [
       "array([48.93054304, 45.32036668, 42.32558519, 39.91517819, 38.05812526,\n",
       "       36.72340599, 35.88      , 35.49688687, 35.54304619, 35.98745757,\n",
       "       36.79910061, 37.94695488, 39.4       , 41.12721556, 43.09758115,\n",
       "       45.28007637, 47.64368081, 50.15737408, 52.79013576, 55.51094546,\n",
       "       58.28878276, 61.09262728, 63.89145859, 66.6542563 , 69.35      ,\n",
       "       71.95433753, 74.46958967, 76.90474545, 79.26879389, 81.57072401,\n",
       "       83.81952484, 86.0241854 , 88.19369471, 90.33704181, 92.4632157 ,\n",
       "       94.58120543, 96.7       ])"
      ]
     },
     "execution_count": 10,
     "metadata": {},
     "output_type": "execute_result"
    }
   ],
   "source": [
    "interp_CDS_amt"
   ]
  },
  {
   "cell_type": "markdown",
   "metadata": {},
   "source": [
    "$\\uparrow$ Above, in `intepr_CDS_amt` we can see values from the `Close` column show up, as they should, for known tenors."
   ]
  },
  {
   "cell_type": "markdown",
   "metadata": {},
   "source": [
    "$\\downarrow$ Let's plot what's happened"
   ]
  },
  {
   "cell_type": "code",
   "execution_count": 11,
   "metadata": {},
   "outputs": [
    {
     "data": {
      "image/png": "[encoded data removed]",
      "text/plain": [
       "<Figure size 720x432 with 1 Axes>"
      ]
     },
     "metadata": {},
     "output_type": "display_data"
    }
   ],
   "source": [
    "plt.figure(figsize=(10,6))\n",
    "plt.plot(cdstenor_tm, cdsspread_amt, 'xb', month_dur, interp_CDS_amt, 'g')\n",
    "plt.legend(['Given', 'Interpolated'])\n",
    "plt.xlabel(\"Tenor\",fontsize=16)\n",
    "plt.ylabel(\"CDS Basis Points\",fontsize=16)\n",
    "plt.axis([-0.25, 10.25, 0, 250])\n",
    "plt.title('Cubic-spline interpolation',fontsize=16)\n",
    "plt.show()"
   ]
  },
  {
   "cell_type": "code",
   "execution_count": 12,
   "metadata": {},
   "outputs": [
    {
     "data": {
      "image/png": "[encoded data removed]",
      "text/plain": [
       "<Figure size 720x288 with 1 Axes>"
      ]
     },
     "metadata": {},
     "output_type": "display_data"
    }
   ],
   "source": [
    "plt.figure(figsize=(10,4))\n",
    "plt.plot(cdstenor_tm[:4], cdsspread_amt[:4], 'xb', month_dur, interp_CDS_amt, 'g')\n",
    "plt.legend(['Given', 'Interpolated'])\n",
    "plt.xlabel(\"Tenor\",fontsize=16)\n",
    "plt.ylabel(\"CDS Basis Points\",fontsize=16)\n",
    "plt.axis([-0.25, 3.25, 0, 250])\n",
    "plt.title('Cubic-spline interpolation',fontsize=16)\n",
    "plt.show()"
   ]
  },
  {
   "cell_type": "markdown",
   "metadata": {},
   "source": [
    "The `interp_CDS_amt` array gives use one value for a CDS spread, per month, based on the observed initial quote data. We can now move forward to find Implied Default Probabilities."
   ]
  },
  {
   "cell_type": "markdown",
   "metadata": {
    "collapsed": true
   },
   "source": [
    "<font color=#cc33ff>__[+] Implying PD from CDS spreads: Probability of Default__</font>"
   ]
  },
  {
   "cell_type": "markdown",
   "metadata": {
    "collapsed": true
   },
   "source": [
    "<font color =\"blue\">The relation between a Credit Default Swap and the Probability of Default</font>\n",
    "\n",
    "Consider a CDS contract with maturity $T_n$ with spread $S_{t,T_i}$\n",
    "- The $T_1...T_n$ are the dates when the premium is paid\n",
    "- The $\\Delta T_i~=~T_i - T_{i-1}$ , $t = T_0 < T_1$\n",
    "\n",
    "The Probability of Default can be written as\n",
    "\n",
    "$PD_{t,T} := \\mathbb{N}(\\tau \\in (t,T)~|~\\mathcal{F}_t,\\tau > t)$\n",
    "\n",
    "- t - current moment\n",
    "- $\\tau$ - time of default\n",
    "- $\\mathbb{N}$ - risk-neutral probability measure\n",
    "- $\\mathcal{F}_t$ - time-$t$ filtration\n",
    "\n",
    "#### Translation  \n",
    "The **Probability of Default** at time $t$ for a contract maturing at time $T$ is given by:  \n",
    "- the risk-neutral probability measure of the **time of default** $\\tau$ (which is within the range of $now$ to $maturity$) under the filtration of all events/ up to now ($t$) where $\\tau$ is greater than $t$.\n"
   ]
  },
  {
   "cell_type": "markdown",
   "metadata": {
    "collapsed": true
   },
   "source": [
    "<font color =\"blue\">The relation between a Credit Default Swap and the Probability of Default</font>\n",
    "\n",
    "__CDS valuation - First Leg__\n",
    "- if the credit event occurs, the first leg is\n",
    "  - (1-RR) x N x $\\sum_{i=1}^{n}(DF_i * DP_i)$\n",
    "    - RR - recovery rate\n",
    "    - N - notional amount\n",
    "    - $DF_i$ discount factor for risk-free rate, at time i\n",
    "    - $DP_i$ is the default probability\n",
    "    - $n$ - number of periodic payments\n",
    "    \n",
    "__CDS Valuation - Second Leg__\n",
    "- if the credit event __does not__ occur, the second leg is\n",
    "  - N x $\\sum_{i=1}^{n}(s * DF_i * SP_i)$\n",
    "    - N is the notional amount\n",
    "    - $DF_i$ - the discount factor for the risk-free rate\n",
    "    - $SP_i$ - the survival probability := $(1-DP_i)$\n",
    "    - $n$ is the number of periodic payments\n",
    "    - s - is the CDS premium or \"spread\"\n",
    "  - $s$ is not time-dependent because the 2$^{nd}$ leg is the _fixed_ leg.\n",
    "\n",
    "$\\Rightarrow$ the above two imply that the __value of the CDS spread__ $s$ should be as follows:\n",
    "\n",
    "## $s~=~\\frac{(1-RR)~\\times~\\sum_{i=1}^{n}(DF_i~\\times~DP_i)}{\\sum_{i=1}^{n}(DF_i~\\times~SP_i)}$\n",
    "\n"
   ]
  },
  {
   "cell_type": "code",
   "execution_count": null,
   "metadata": {
    "collapsed": true
   },
   "outputs": [],
   "source": []
  },
  {
   "cell_type": "code",
   "execution_count": null,
   "metadata": {
    "collapsed": true
   },
   "outputs": [],
   "source": []
  },
  {
   "cell_type": "code",
   "execution_count": null,
   "metadata": {
    "collapsed": true
   },
   "outputs": [],
   "source": []
  },
  {
   "cell_type": "code",
   "execution_count": null,
   "metadata": {
    "collapsed": true
   },
   "outputs": [],
   "source": []
  },
  {
   "cell_type": "markdown",
   "metadata": {},
   "source": [
    "<font face=\"Calibri\" size=4>Part III. Risk Factors Simulation\n",
    "</font>\n",
    "- ### Simulation Methodolody\n",
    "- ### Calibration to Market Data\n",
    "- ### Simulation: 3 years, 1 month time step, $M$ simulations"
   ]
  },
  {
   "cell_type": "markdown",
   "metadata": {},
   "source": [
    "<font face=\"Calibri\" size=4>Part IV. Calculation of Expoected Exposure Profiles\n",
    "</font>\n",
    "- ### Expected Exposure (EE) profile for each derivative in question\n",
    "- ### Identification and presentation of the key features of EE, per derivative\n",
    "- ### Sensitivity analysis of volatility changes, on Expected Exposure"
   ]
  },
  {
   "cell_type": "markdown",
   "metadata": {},
   "source": [
    "<font face=\"Calibri\" size=4>Part V. CVA Calculation for Each Derivative\n",
    "</font>\n",
    "- ### CVA per derivative\n",
    "- ### Sensitivity analysis of volatility changes on CVA"
   ]
  },
  {
   "cell_type": "code",
   "execution_count": null,
   "metadata": {
    "collapsed": true
   },
   "outputs": [],
   "source": []
  }
 ],
 "metadata": {
  "kernelspec": {
   "display_name": "Python 3",
   "language": "python",
   "name": "python3"
  },
  "language_info": {
   "codemirror_mode": {
    "name": "ipython",
    "version": 3
   },
   "file_extension": ".py",
   "mimetype": "text/x-python",
   "name": "python",
   "nbconvert_exporter": "python",
   "pygments_lexer": "ipython3",
   "version": "3.6.5"
  }
 },
 "nbformat": 4,
 "nbformat_minor": 2
}
