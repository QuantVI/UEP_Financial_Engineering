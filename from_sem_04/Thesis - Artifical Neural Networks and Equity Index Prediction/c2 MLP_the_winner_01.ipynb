{
 "cells": [
  {
   "cell_type": "markdown",
   "metadata": {},
   "source": [
    "A 3-layer flat MLP of 64 neurons per layer, scored the lowest MSE in our test of 4 architecture types.\n",
    "\n",
    "Let's look at the data of this MLP, and also learn how to save the weights and biases, and how to use it for s one step-ahead forecast."
   ]
  },
  {
   "cell_type": "markdown",
   "metadata": {},
   "source": [
    "#### Full Specification\n",
    "- Layers 3\n",
    "- Layer In: Input\n",
    "  - dimension: 9 neurons\n",
    "  - activation: input neurons do not use activation funtcions\n",
    "- Layer 1: Hidden\n",
    "  - dimension: 64 neurons\n",
    "  - activation: ReLU\n",
    "- Layer 2: Hidden\n",
    "  - dimension: 64 neurons\n",
    "  - activation: ReLU\n",
    "- Layer 3: Hidden\n",
    "  - dimension: 64 neurons\n",
    "  - activation: ReLU\n",
    "- Layer Out: Output\n",
    "  - dimension: 1 neuron\n",
    "  - activation: None. This makes sense since we are trying to replicate a value\n",
    "- Epochs: 1000\n",
    "- Loss Function: MSE\n",
    "- Optimization Method: Adam\n",
    "- MSE on final epoch: 0.00013208114798526547"
   ]
  },
  {
   "cell_type": "markdown",
   "metadata": {},
   "source": [
    "### We'd like to build the specific model above"
   ]
  },
  {
   "cell_type": "code",
   "execution_count": 9,
   "metadata": {},
   "outputs": [
    {
     "name": "stderr",
     "output_type": "stream",
     "text": [
      "/Users/revit/anaconda3/lib/python3.6/site-packages/h5py/__init__.py:34: FutureWarning: Conversion of the second argument of issubdtype from `float` to `np.floating` is deprecated. In future, it will be treated as `np.float64 == np.dtype(float).type`.\n",
      "  from ._conv import register_converters as _register_converters\n"
     ]
    }
   ],
   "source": [
    "# Build it\n",
    "# code from run_normd_MLP_static.py\n",
    "# regular imports\n",
    "import pandas as pd\n",
    "import os\n",
    "import numpy as np\n",
    "import datetime\n",
    "\n",
    "# other imports\n",
    "import inspect\n",
    "import sys\n",
    "import time\n",
    "\n",
    "# the file\n",
    "snpnormfile = \"Reuters Data Copy/SandP500/snp_normalized_lagged.csv\"\n",
    "snp_a_data = pd.read_csv(snpnormfile,parse_dates=['Local_Datetime'],\n",
    "                         index_col=0)\n",
    "\n",
    "# just to keep from changing to many variable names below\n",
    "snp_data_chrono = snp_a_data\n",
    "\n",
    "# define MLP dataset\n",
    "# we need to leave a validation set, which we can use for test later\n",
    "y = snp_data_chrono['Close']\n",
    "y_train = y.iloc[:1347-135]\n",
    "y_validation = y.iloc[1347-135:]\n",
    "X_train = snp_data_chrono.iloc[:1347-135,2:]\n",
    "X_validation = snp_data_chrono.iloc[1347-135:,2:]\n",
    "\n",
    "# for NN first imports\n",
    "# for tensorflow with keras\n",
    "import tensorflow\n",
    "# due to a problem on Windows, force the aliasing\n",
    "sys.modules['keras'] = tensorflow.keras\n",
    "\n",
    "# for NN second imports\n",
    "from keras.models import Sequential\n",
    "from keras.layers import Dense\n"
   ]
  },
  {
   "cell_type": "markdown",
   "metadata": {},
   "source": [
    "#### at this point inthe code, we introduce a lattic of different epochs, nodes and layers.\n",
    "I suppose, we can just fill this list with a single item"
   ]
  },
  {
   "cell_type": "code",
   "execution_count": 15,
   "metadata": {},
   "outputs": [
    {
     "data": {
      "text/plain": [
       "[[1000, 3, 64]]"
      ]
     },
     "execution_count": 15,
     "metadata": {},
     "output_type": "execute_result"
    }
   ],
   "source": [
    "# here are our bases for configurations\n",
    "cross_config = []\n",
    "# epics = [250,500,1000]\n",
    "# lyrz = [1,2,3,4]\n",
    "# nodz = [32,64,128]\n",
    "\n",
    "#for epic in epics:\n",
    "#    for layer in lyrz:\n",
    "#        for node in nodz:\n",
    "#            cross_config.append([epic,layer,node])\n",
    "\n",
    "flat_config_1000_3_64 = [1000,3,64]\n",
    "cross_config.append(flat_config_1000_3_64)\n",
    "cross_config"
   ]
  },
  {
   "cell_type": "code",
   "execution_count": 16,
   "metadata": {
    "collapsed": true
   },
   "outputs": [],
   "source": [
    "# make a model based on the config\n",
    "\n",
    "def config_model(lyr,nod):\n",
    "    model_info = {\"layers\":lyr,\n",
    "                  \"layer\":{}\n",
    "                 }\n",
    "    \n",
    "    new_model = Sequential()\n",
    "\n",
    "    # define model\n",
    "    new_model.add(Dense(nod, activation=\"relu\", input_dim=9))\n",
    "    model_info[\"layer\"][1] = nod\n",
    "    \n",
    "    # define the hidden layers\n",
    "    if (lyr>1):\n",
    "        for this_layer in range(1,lyr):\n",
    "                nod_now = nod\n",
    "                new_model.add(Dense(nod_now,activation=\"relu\"))\n",
    "                model_info[\"layer\"][this_layer+1] = nod_now\n",
    "                \n",
    "    # the loop does this for every extra hidden layer\n",
    "    # finally, we add the output layer\n",
    "    \n",
    "    new_model.add(Dense(1))\n",
    "\n",
    "    return new_model, model_info\n",
    "\n",
    "# notice it returns abbreviated config info\n",
    "    # e.g. {'layer': {1: 64, 2: 64, 3: 64, 4: 64}, 'layers': 4}\n",
    "\n",
    "# we still have to compilte afterward, then fit\n",
    "\n",
    "def train_a_config(trial):\n",
    "    noepoch = trial[0]\n",
    "    nolayer = trial[1]\n",
    "    nonodes = trial[2]\n",
    "    curr_model, curr_info = config_model(nolayer,nonodes)\n",
    "    \n",
    "    curr_model.compile(optimizer=\"adam\", loss=\"mse\")\n",
    "    \n",
    "    trn_model = curr_model.fit(X_train, y_train,\n",
    "                               validation_data=(X_validation,y_validation),\n",
    "                               epochs=noepoch, verbose=0)\n",
    "\n",
    "    ret_dict = {\"epochs\":trn_model.epoch[-1]+1,\n",
    "                \"config\":curr_info,\n",
    "                \"result\":trn_model.history}\n",
    "    return ret_dict\n",
    "\n",
    "# where to save results\n",
    "#file_out = \"normd_MLP_results.txt\"\n",
    "#tempf = open(sav_res,'w')\n",
    "#tempf.close()\n",
    "#time.sleep(3)\n"
   ]
  },
  {
   "cell_type": "code",
   "execution_count": 17,
   "metadata": {
    "collapsed": true
   },
   "outputs": [],
   "source": [
    "# where to save results\n",
    "#file_out = \"normd_MLP_results.txt\"\n",
    "#tempf = open(sav_res,'w')\n",
    "#tempf.close()\n",
    "#time.sleep(3)\n",
    "\n",
    "# cross_config is our test_list\n",
    "def train_all_mlps(test_list,sav_res):\n",
    "    # info for screen\n",
    "    listlen = len(test_list)\n",
    "    for test in test_list:\n",
    "        # info for screen\n",
    "        test_order = 1+test_list.index(test)\n",
    "        \n",
    "        test_result = train_a_config(test)\n",
    "        fsav = open(sav_res,'a')\n",
    "        fsav.write(str(test_result))\n",
    "        fsav.write('\\n')\n",
    "        fsav.close()\n",
    "        # to print to screen\n",
    "        epout = test_result[\"epochs\"]\n",
    "        szout = test_result[\"config\"][\"layers\"]\n",
    "        to_print = \"{} of {}: Trained {} epochs, on {} layers. Saved.\"\n",
    "        print(to_print.format(test_order,listlen,epout,szout))\n"
   ]
  },
  {
   "cell_type": "markdown",
   "metadata": {},
   "source": [
    "#### We don't need to save to disk, but it's fine if we do"
   ]
  },
  {
   "cell_type": "code",
   "execution_count": 13,
   "metadata": {
    "collapsed": true
   },
   "outputs": [],
   "source": [
    "nbksaveflenm = \"mlp_winner_01nbk_output.txt\""
   ]
  },
  {
   "cell_type": "markdown",
   "metadata": {},
   "source": [
    "if a name is not supplied, it will save to a file called \"-f\""
   ]
  },
  {
   "cell_type": "code",
   "execution_count": 18,
   "metadata": {},
   "outputs": [
    {
     "name": "stdout",
     "output_type": "stream",
     "text": [
      "\n",
      "\n",
      "1  : configurations to train\n",
      "\n",
      "1 of 1: Trained 1000 epochs, on 3 layers. Saved.\n"
     ]
    }
   ],
   "source": [
    "if __name__ == \"__main__\":\n",
    "    print('\\n')\n",
    "    print(len(cross_config),\" : configurations to train\\n\")\n",
    "    train_all_mlps(cross_config,nbksaveflenm)"
   ]
  },
  {
   "cell_type": "markdown",
   "metadata": {},
   "source": [
    "It take just under 1 minute to train this (3 layer, 64, 64, 64 neuron) MLP network via Jupyter Notebook"
   ]
  },
  {
   "cell_type": "markdown",
   "metadata": {},
   "source": [
    "### We modify this to return a trained model to us.\n",
    "We need to figure out where the weights/bias info is"
   ]
  },
  {
   "cell_type": "code",
   "execution_count": 19,
   "metadata": {
    "collapsed": true
   },
   "outputs": [],
   "source": [
    "def train_a_config_return_a_model(trial):\n",
    "    noepoch = trial[0]\n",
    "    nolayer = trial[1]\n",
    "    nonodes = trial[2]\n",
    "    curr_model, curr_info = config_model(nolayer,nonodes)\n",
    "    \n",
    "    curr_model.compile(optimizer=\"adam\", loss=\"mse\")\n",
    "    \n",
    "    trn_model = curr_model.fit(X_train, y_train,\n",
    "                               validation_data=(X_validation,y_validation),\n",
    "                               epochs=noepoch, verbose=0)\n",
    "\n",
    "    ret_dict = {\"epochs\":trn_model.epoch[-1]+1,\n",
    "                \"config\":curr_info,\n",
    "                \"result\":trn_model.history}\n",
    "    return ret_dict, trn_model"
   ]
  },
  {
   "cell_type": "code",
   "execution_count": 21,
   "metadata": {
    "collapsed": true
   },
   "outputs": [],
   "source": [
    "MLP_dict, MLP_trained = train_a_config_return_a_model(flat_config_1000_3_64)"
   ]
  },
  {
   "cell_type": "code",
   "execution_count": 27,
   "metadata": {},
   "outputs": [
    {
     "data": {
      "text/plain": [
       "'{\"class_name\": \"Sequential\", \"config\": {\"name\": \"sequential_6\", \"layers\": [{\"class_name\": \"Dense\", \"config\": {\"name\": \"dense_17\", \"trainable\": true, \"batch_input_shape\": [null, 9], \"dtype\": \"float32\", \"units\": 64, \"activation\": \"relu\", \"use_bias\": true, \"kernel_initializer\": {\"class_name\": \"GlorotUniform\", \"config\": {\"seed\": null, \"dtype\": \"float32\"}}, \"bias_initializer\": {\"class_name\": \"Zeros\", \"config\": {\"dtype\": \"float32\"}}, \"kernel_regularizer\": null, \"bias_regularizer\": null, \"activity_regularizer\": null, \"kernel_constraint\": null, \"bias_constraint\": null}}, {\"class_name\": \"Dense\", \"config\": {\"name\": \"dense_18\", \"trainable\": true, \"dtype\": \"float32\", \"units\": 64, \"activation\": \"relu\", \"use_bias\": true, \"kernel_initializer\": {\"class_name\": \"GlorotUniform\", \"config\": {\"seed\": null, \"dtype\": \"float32\"}}, \"bias_initializer\": {\"class_name\": \"Zeros\", \"config\": {\"dtype\": \"float32\"}}, \"kernel_regularizer\": null, \"bias_regularizer\": null, \"activity_regularizer\": null, \"kernel_constraint\": null, \"bias_constraint\": null}}, {\"class_name\": \"Dense\", \"config\": {\"name\": \"dense_19\", \"trainable\": true, \"dtype\": \"float32\", \"units\": 64, \"activation\": \"relu\", \"use_bias\": true, \"kernel_initializer\": {\"class_name\": \"GlorotUniform\", \"config\": {\"seed\": null, \"dtype\": \"float32\"}}, \"bias_initializer\": {\"class_name\": \"Zeros\", \"config\": {\"dtype\": \"float32\"}}, \"kernel_regularizer\": null, \"bias_regularizer\": null, \"activity_regularizer\": null, \"kernel_constraint\": null, \"bias_constraint\": null}}, {\"class_name\": \"Dense\", \"config\": {\"name\": \"dense_20\", \"trainable\": true, \"dtype\": \"float32\", \"units\": 1, \"activation\": \"linear\", \"use_bias\": true, \"kernel_initializer\": {\"class_name\": \"GlorotUniform\", \"config\": {\"seed\": null, \"dtype\": \"float32\"}}, \"bias_initializer\": {\"class_name\": \"Zeros\", \"config\": {\"dtype\": \"float32\"}}, \"kernel_regularizer\": null, \"bias_regularizer\": null, \"activity_regularizer\": null, \"kernel_constraint\": null, \"bias_constraint\": null}}]}, \"keras_version\": \"2.2.4-tf\", \"backend\": \"tensorflow\"}'"
      ]
     },
     "execution_count": 27,
     "metadata": {},
     "output_type": "execute_result"
    }
   ],
   "source": [
    "MLP_trained.model.to_json()"
   ]
  },
  {
   "cell_type": "code",
   "execution_count": 28,
   "metadata": {},
   "outputs": [
    {
     "data": {
      "text/plain": [
       "[<tf.Variable 'dense_17/kernel:0' shape=(9, 64) dtype=float32>,\n",
       " <tf.Variable 'dense_17/bias:0' shape=(64,) dtype=float32>,\n",
       " <tf.Variable 'dense_18/kernel:0' shape=(64, 64) dtype=float32>,\n",
       " <tf.Variable 'dense_18/bias:0' shape=(64,) dtype=float32>,\n",
       " <tf.Variable 'dense_19/kernel:0' shape=(64, 64) dtype=float32>,\n",
       " <tf.Variable 'dense_19/bias:0' shape=(64,) dtype=float32>,\n",
       " <tf.Variable 'dense_20/kernel:0' shape=(64, 1) dtype=float32>,\n",
       " <tf.Variable 'dense_20/bias:0' shape=(1,) dtype=float32>]"
      ]
     },
     "execution_count": 28,
     "metadata": {},
     "output_type": "execute_result"
    }
   ],
   "source": [
    "MLP_trained.model.weights"
   ]
  },
  {
   "cell_type": "markdown",
   "metadata": {},
   "source": [
    "### we learn how to save the weights to a file"
   ]
  },
  {
   "cell_type": "code",
   "execution_count": 29,
   "metadata": {
    "collapsed": true
   },
   "outputs": [],
   "source": [
    "MLP_trained.model.save_weights(\"MLP_weight_save_test01.h5\")"
   ]
  },
  {
   "cell_type": "markdown",
   "metadata": {},
   "source": [
    "### we now save the model config"
   ]
  },
  {
   "cell_type": "code",
   "execution_count": 33,
   "metadata": {
    "collapsed": true
   },
   "outputs": [],
   "source": [
    "MLP_model_json = MLP_trained.model.to_json()\n",
    "with open(\"MLP_model_save_test01.json\", \"w\") as json_file:\n",
    "    json_file.write(MLP_model_json)"
   ]
  },
  {
   "cell_type": "markdown",
   "metadata": {},
   "source": [
    "\\# load json and create model  \n",
    "json_file = open('model.json', 'r')  \n",
    "loaded_model_json = json_file.read()  \n",
    "json_file.close()  \n",
    "loaded_model = model_from_json(loaded_model_json)  \n",
    "\n",
    "\\# load weights into new model  \n",
    "loaded_model.load_weights(\"model.h5\")  \n",
    "print(\"Loaded model from disk\")  \n",
    " \n",
    "\\# evaluate loaded model on test data  \n",
    "loaded_model.compile(loss='binary_crossentropy', optimizer='rmsprop', metrics=['accuracy'])  \n",
    "score = loaded_model.evaluate(X, Y, verbose=0)  \n",
    "print(\"%s: %.2f%%\" % (loaded_model.metrics_names[1], score[1]*100))  \n"
   ]
  },
  {
   "cell_type": "markdown",
   "metadata": {},
   "source": [
    "### Allows us to bild a model from a config"
   ]
  },
  {
   "cell_type": "code",
   "execution_count": 31,
   "metadata": {
    "collapsed": true
   },
   "outputs": [],
   "source": [
    "from keras.models import model_from_json"
   ]
  },
  {
   "cell_type": "code",
   "execution_count": 35,
   "metadata": {},
   "outputs": [
    {
     "name": "stderr",
     "output_type": "stream",
     "text": [
      "W1008 14:53:04.180463 140735722779584 deprecation.py:506] From /Users/revit/anaconda3/lib/python3.6/site-packages/tensorflow/python/ops/init_ops.py:97: calling GlorotUniform.__init__ (from tensorflow.python.ops.init_ops) with dtype is deprecated and will be removed in a future version.\n",
      "Instructions for updating:\n",
      "Call initializer instance with the dtype argument instead of passing it to the constructor\n",
      "W1008 14:53:04.189088 140735722779584 deprecation.py:506] From /Users/revit/anaconda3/lib/python3.6/site-packages/tensorflow/python/ops/init_ops.py:97: calling Zeros.__init__ (from tensorflow.python.ops.init_ops) with dtype is deprecated and will be removed in a future version.\n",
      "Instructions for updating:\n",
      "Call initializer instance with the dtype argument instead of passing it to the constructor\n"
     ]
    }
   ],
   "source": [
    "stored_model_info = open(\"MLP_model_save_test01.json\",'r')\n",
    "loaded_model_info = stored_model_info.read()\n",
    "stored_model_info.close()\n",
    "\n",
    "loaded_model = model_from_json(loaded_model_info)"
   ]
  },
  {
   "cell_type": "code",
   "execution_count": 36,
   "metadata": {},
   "outputs": [
    {
     "name": "stdout",
     "output_type": "stream",
     "text": [
      "Loaded model from disk\n"
     ]
    }
   ],
   "source": [
    "# load weights into new model\n",
    "loaded_model.load_weights(\"MLP_weight_save_test01.h5\")\n",
    "print(\"Loaded model from disk\")"
   ]
  },
  {
   "cell_type": "code",
   "execution_count": 37,
   "metadata": {},
   "outputs": [
    {
     "name": "stdout",
     "output_type": "stream",
     "text": [
      "acc: 0.74%\n"
     ]
    }
   ],
   "source": [
    "# evaluate loaded model on test data\n",
    "loaded_model.compile(loss='MSE', optimizer='adam', metrics=['accuracy'])\n",
    "score = loaded_model.evaluate(X_validation, y_validation, verbose=0)\n",
    "print(\"%s: %.2f%%\" % (loaded_model.metrics_names[1], score[1]*100))"
   ]
  },
  {
   "cell_type": "code",
   "execution_count": 54,
   "metadata": {},
   "outputs": [
    {
     "name": "stdout",
     "output_type": "stream",
     "text": [
      "135/135 [==============================] - 0s 142us/sample - loss: 6.5319e-05\n"
     ]
    },
    {
     "data": {
      "text/plain": [
       "6.531900483726834e-05"
      ]
     },
     "execution_count": 54,
     "metadata": {},
     "output_type": "execute_result"
    }
   ],
   "source": [
    "MLP_trained.model.evaluate(X_validation, y_validation, verbose=1)"
   ]
  },
  {
   "cell_type": "code",
   "execution_count": 58,
   "metadata": {
    "collapsed": true
   },
   "outputs": [],
   "source": [
    "preds = MLP_trained.model.predict(X_validation)"
   ]
  },
  {
   "cell_type": "code",
   "execution_count": 64,
   "metadata": {},
   "outputs": [
    {
     "data": {
      "text/plain": [
       "array([[0.9039668 ],\n",
       "       [0.91235477],\n",
       "       [0.9169746 ],\n",
       "       [0.9196155 ],\n",
       "       [0.9189695 ]], dtype=float32)"
      ]
     },
     "execution_count": 64,
     "metadata": {},
     "output_type": "execute_result"
    }
   ],
   "source": [
    "preds[:5]"
   ]
  },
  {
   "cell_type": "code",
   "execution_count": 65,
   "metadata": {
    "collapsed": true
   },
   "outputs": [],
   "source": [
    "copypreds = preds.copy()"
   ]
  },
  {
   "cell_type": "code",
   "execution_count": 69,
   "metadata": {},
   "outputs": [
    {
     "data": {
      "text/plain": [
       "array([[0.9039668 , 0.91235477, 0.9169746 , 0.9196155 , 0.9189695 ,\n",
       "        0.92071927, 0.9162564 , 0.9238107 , 0.94228745, 0.94579464,\n",
       "        0.9379847 , 0.9423332 , 0.9463122 , 0.9419098 , 0.9437326 ,\n",
       "        0.9468029 , 0.9552797 , 0.94737697, 0.9558586 , 0.9546777 ,\n",
       "        0.94659555, 0.94203335, 0.9484967 , 0.9563378 , 0.96056426,\n",
       "        0.96254873, 0.96369034, 0.9612968 , 0.9643599 , 0.9676897 ,\n",
       "        0.97093755, 0.9755031 , 0.9773047 , 0.97612345, 0.97210854,\n",
       "        0.970463  , 0.9698169 , 0.9748485 , 0.9751327 , 0.9771063 ,\n",
       "        0.9729108 , 0.97526336, 0.9703295 , 0.9614063 , 0.9676835 ,\n",
       "        0.9611113 , 0.9645174 , 0.9618742 , 0.96264195, 0.9506443 ,\n",
       "        0.9492547 , 0.9497209 , 0.9496663 , 0.94753337, 0.9402343 ,\n",
       "        0.93363154, 0.9247391 , 0.9362854 , 0.9250429 , 0.9294245 ,\n",
       "        0.9312873 , 0.9424114 , 0.94220686, 0.9476509 , 0.9609617 ,\n",
       "        0.95477754, 0.9522016 , 0.9517921 , 0.95027936, 0.94052505,\n",
       "        0.9361894 , 0.92407113, 0.93111634, 0.9319311 , 0.9272462 ,\n",
       "        0.932292  , 0.93274325, 0.9330168 , 0.93335646, 0.9343702 ,\n",
       "        0.94880533, 0.94073284, 0.9438261 , 0.9414724 , 0.9477267 ,\n",
       "        0.9567044 , 0.96168554, 0.9634086 , 0.95031834, 0.96403897,\n",
       "        0.9619733 , 0.966608  , 0.9696492 , 0.9746093 , 0.97941625,\n",
       "        0.9823636 , 0.9783033 , 0.9695246 , 0.9701083 , 0.9633416 ,\n",
       "        0.96249235, 0.96571434, 0.9641355 , 0.96140015, 0.9757001 ,\n",
       "        0.9781113 , 0.98422444, 0.9868051 , 0.9881908 , 0.9887501 ,\n",
       "        0.99450344, 0.99394035, 0.99216956, 0.9817643 , 0.985677  ,\n",
       "        0.98470306, 0.9891093 , 0.9876191 , 0.98502296, 0.9859607 ,\n",
       "        0.96197987, 0.9706791 , 0.9745894 , 0.97607315, 0.9714534 ,\n",
       "        0.9789869 , 0.9712524 , 0.9728873 , 0.97829354, 0.9726019 ,\n",
       "        0.9773338 , 0.9776387 , 0.978405  , 0.9696541 , 0.9462131 ]],\n",
       "      dtype=float32)"
      ]
     },
     "execution_count": 69,
     "metadata": {},
     "output_type": "execute_result"
    }
   ],
   "source": [
    "copypreds.reshape((1,135))"
   ]
  },
  {
   "cell_type": "code",
   "execution_count": 70,
   "metadata": {},
   "outputs": [
    {
     "data": {
      "text/plain": [
       "6943    0.915639\n",
       "6883    0.920710\n",
       "6823    0.921596\n",
       "6763    0.921744\n",
       "6703    0.923311\n",
       "          ...   \n",
       "231     0.981907\n",
       "171     0.981390\n",
       "111     0.973895\n",
       "51      0.948337\n",
       "13      0.930200\n",
       "Name: Close, Length: 135, dtype: float64"
      ]
     },
     "execution_count": 70,
     "metadata": {},
     "output_type": "execute_result"
    }
   ],
   "source": [
    "y_validation"
   ]
  },
  {
   "cell_type": "code",
   "execution_count": 51,
   "metadata": {},
   "outputs": [
    {
     "name": "stdout",
     "output_type": "stream",
     "text": [
      "Model: \"sequential_6\"\n",
      "_________________________________________________________________\n",
      "Layer (type)                 Output Shape              Param #   \n",
      "=================================================================\n",
      "dense_17 (Dense)             (None, 64)                640       \n",
      "_________________________________________________________________\n",
      "dense_18 (Dense)             (None, 64)                4160      \n",
      "_________________________________________________________________\n",
      "dense_19 (Dense)             (None, 64)                4160      \n",
      "_________________________________________________________________\n",
      "dense_20 (Dense)             (None, 1)                 65        \n",
      "=================================================================\n",
      "Total params: 9,025\n",
      "Trainable params: 9,025\n",
      "Non-trainable params: 0\n",
      "_________________________________________________________________\n"
     ]
    }
   ],
   "source": [
    "MLP_trained.model.summary()"
   ]
  },
  {
   "cell_type": "markdown",
   "metadata": {},
   "source": [
    "# Up to this point, we retrained the winning MLP model. Then, we modified one of the functions fomr the .py file to return the trained model. With the trained model, we could call its function to save both its architecture and weights to disc. We then loaded those items into a brand new model, and scored the model. I used our validation data."
   ]
  },
  {
   "cell_type": "code",
   "execution_count": 50,
   "metadata": {},
   "outputs": [
    {
     "data": {
      "text/plain": [
       "1347"
      ]
     },
     "execution_count": 50,
     "metadata": {},
     "output_type": "execute_result"
    }
   ],
   "source": [
    "len(y)"
   ]
  },
  {
   "cell_type": "markdown",
   "metadata": {},
   "source": [
    "# Our model searching didn't use a \"metrics\" item, but that's okay, since we can just use MSE (metrics can be same or different from loss). However, we didn't hold out a trainining set, only a valdation set of 135 rows, which is around 10% of the data.\n",
    "\n",
    "## We may want to use the best MLP on only 80% of the data, and have 10% validation and 10% for testing."
   ]
  },
  {
   "cell_type": "markdown",
   "metadata": {},
   "source": [
    "- can we graph this?"
   ]
  },
  {
   "cell_type": "code",
   "execution_count": 87,
   "metadata": {
    "collapsed": true
   },
   "outputs": [],
   "source": [
    "import matplotlib.pyplot as plt\n",
    "import numpy as np\n",
    "%matplotlib inline"
   ]
  },
  {
   "cell_type": "code",
   "execution_count": 78,
   "metadata": {},
   "outputs": [
    {
     "data": {
      "text/plain": [
       "[<matplotlib.lines.Line2D at 0x18316ad668>]"
      ]
     },
     "execution_count": 78,
     "metadata": {},
     "output_type": "execute_result"
    },
    {
     "data": {
      "image/png": "[encoded data removed]",
      "text/plain": [
       "<Figure size 432x288 with 1 Axes>"
      ]
     },
     "metadata": {},
     "output_type": "display_data"
    }
   ],
   "source": [
    "plt.plot(MLP_trained.history['loss'])"
   ]
  },
  {
   "cell_type": "code",
   "execution_count": 81,
   "metadata": {
    "collapsed": true
   },
   "outputs": [],
   "source": [
    "ordered_losses = tuple(MLP_trained.history['loss'])"
   ]
  },
  {
   "cell_type": "code",
   "execution_count": 82,
   "metadata": {},
   "outputs": [
    {
     "data": {
      "text/plain": [
       "(0.18135435258425625,\n",
       " 0.0013565721492461318,\n",
       " 0.0004471846599333148,\n",
       " 0.00034129011117017187,\n",
       " 0.00030599051253507435,\n",
       " 0.0002653700848115399,\n",
       " 0.00026570984211184774,\n",
       " 0.00024751651831483775,\n",
       " 0.0002423782809675908,\n",
       " 0.0002342679618708728,\n",
       " 0.00029225400969825634,\n",
       " 0.00023795965823257288,\n",
       " 0.00023737767681121372,\n",
       " 0.00024243680099040736,\n",
       " 0.0002256633871655278,\n",
       " 0.00022246180079752892,\n",
       " 0.0002218695237760804,\n",
       " 0.0002174283216074232,\n",
       " 0.0002257817685327465,\n",
       " 0.00021150315666637343,\n",
       " 0.00020897517734969482,\n",
       " 0.00023505243943603064,\n",
       " 0.0002054891745669755,\n",
       " 0.0002147327197397515,\n",
       " 0.0002071934188771824,\n",
       " 0.00021043832257479158,\n",
       " 0.00021420430084467611,\n",
       " 0.00021366050773109662,\n",
       " 0.00024970686824864744,\n",
       " 0.0002285476628746284,\n",
       " 0.00021353517866481354,\n",
       " 0.00021165934559026973,\n",
       " 0.000249349850119651,\n",
       " 0.00020565304330015315,\n",
       " 0.00021104426893540858,\n",
       " 0.0002151714157038015,\n",
       " 0.0002079583122298927,\n",
       " 0.00027487179820184527,\n",
       " 0.000253590912210045,\n",
       " 0.0002471262724722794,\n",
       " 0.00023508853997621014,\n",
       " 0.0002258375337771555,\n",
       " 0.00020434866215966076,\n",
       " 0.00022376681665126113,\n",
       " 0.00021736247251010054,\n",
       " 0.00020148168541199034,\n",
       " 0.00020697084140253833,\n",
       " 0.00019044032387232574,\n",
       " 0.00020403492238707594,\n",
       " 0.0002158638122553012,\n",
       " 0.00022222831776702205,\n",
       " 0.00023045164989495784,\n",
       " 0.0001867714654208582,\n",
       " 0.00021690043839572224,\n",
       " 0.00024408652971993528,\n",
       " 0.00019192190354047557,\n",
       " 0.00018681250667244062,\n",
       " 0.00019105662223971342,\n",
       " 0.0002105139198704552,\n",
       " 0.0001871411109142614,\n",
       " 0.0002128102843247803,\n",
       " 0.00019524458772925468,\n",
       " 0.00022321345906327371,\n",
       " 0.00023349692883460225,\n",
       " 0.00022033639694986673,\n",
       " 0.00020777118622237762,\n",
       " 0.0002291684130474882,\n",
       " 0.00020537345845747135,\n",
       " 0.00019824154321630653,\n",
       " 0.0002158256585743561,\n",
       " 0.00018782125206367597,\n",
       " 0.00019950024659127588,\n",
       " 0.00018999450829970457,\n",
       " 0.00019299185683254596,\n",
       " 0.00020070622287838175,\n",
       " 0.00018531711541174638,\n",
       " 0.00019072255543463865,\n",
       " 0.00020111092220662967,\n",
       " 0.00021334504180360378,\n",
       " 0.00019730964228710645,\n",
       " 0.0002021210146825853,\n",
       " 0.00018507443328957433,\n",
       " 0.00019614189133592097,\n",
       " 0.00018849987044881279,\n",
       " 0.00020514966047095387,\n",
       " 0.00018748598597427405,\n",
       " 0.00021345343685896435,\n",
       " 0.00019683430330380612,\n",
       " 0.00023709812361774688,\n",
       " 0.0001951360981104582,\n",
       " 0.0002318333749691633,\n",
       " 0.00023544998784267524,\n",
       " 0.00020935516766996335,\n",
       " 0.0001952267380042475,\n",
       " 0.00020026075633560852,\n",
       " 0.00020450976819012055,\n",
       " 0.0001934402397856433,\n",
       " 0.00019455387907985617,\n",
       " 0.00019010241380078172,\n",
       " 0.00018049168341682467,\n",
       " 0.000185880602021216,\n",
       " 0.0001983904011206388,\n",
       " 0.00021222381433395196,\n",
       " 0.0002235386887735844,\n",
       " 0.00027852680164515333,\n",
       " 0.0002045420128809866,\n",
       " 0.00026532524978440785,\n",
       " 0.00021165885231396177,\n",
       " 0.00021066170167746546,\n",
       " 0.00021482270071513507,\n",
       " 0.00019220907987239878,\n",
       " 0.0001859790625368789,\n",
       " 0.0001887471244657772,\n",
       " 0.00019880285215327398,\n",
       " 0.00018392311214706047,\n",
       " 0.0001965589461526941,\n",
       " 0.00019795940360000584,\n",
       " 0.00021419496845650693,\n",
       " 0.00021635405321623945,\n",
       " 0.0001855893021183574,\n",
       " 0.00019400226791380066,\n",
       " 0.00022233433572140524,\n",
       " 0.00020269081226078234,\n",
       " 0.00021015784636726941,\n",
       " 0.00020296958411725625,\n",
       " 0.00019538280796743744,\n",
       " 0.00021437891695968094,\n",
       " 0.0001949963021351842,\n",
       " 0.00021246319540458187,\n",
       " 0.00018199284780169637,\n",
       " 0.00019332934485052225,\n",
       " 0.000179408975899344,\n",
       " 0.00021201774036406506,\n",
       " 0.0002094056617592311,\n",
       " 0.0002358718342977659,\n",
       " 0.0002248266610688078,\n",
       " 0.00023740436713689194,\n",
       " 0.00020262070948975745,\n",
       " 0.0002169298976675143,\n",
       " 0.0002740461650829326,\n",
       " 0.00021523970203080734,\n",
       " 0.00024298707580558106,\n",
       " 0.0001885108138732735,\n",
       " 0.00019341473325586758,\n",
       " 0.0001873273993942198,\n",
       " 0.00021081498747026062,\n",
       " 0.00021859009200960656,\n",
       " 0.00022339522004859036,\n",
       " 0.0002095879098494989,\n",
       " 0.00021745473856841008,\n",
       " 0.0002447689104955505,\n",
       " 0.0002451561128266506,\n",
       " 0.00021575526942356057,\n",
       " 0.00018265148100428584,\n",
       " 0.00018603173067267652,\n",
       " 0.0002109053567848737,\n",
       " 0.00020349028055585317,\n",
       " 0.00021642166448806232,\n",
       " 0.00023267029595588987,\n",
       " 0.0001739152658557083,\n",
       " 0.0001871696152346264,\n",
       " 0.00019522755199900395,\n",
       " 0.00017636603146150597,\n",
       " 0.00018573236146868013,\n",
       " 0.00020753777172514805,\n",
       " 0.00018951954351194056,\n",
       " 0.00017904335564338962,\n",
       " 0.00018326735143490573,\n",
       " 0.0001855524090270853,\n",
       " 0.00019180030855327145,\n",
       " 0.00018708130691305,\n",
       " 0.00023985412015991512,\n",
       " 0.00021405958228786062,\n",
       " 0.0001744689596505688,\n",
       " 0.00018426825668164853,\n",
       " 0.00018761404097927795,\n",
       " 0.00020473985500532284,\n",
       " 0.00018835964499993508,\n",
       " 0.00021471260200510501,\n",
       " 0.00020173528533668655,\n",
       " 0.00020030338443032306,\n",
       " 0.00020291998518689262,\n",
       " 0.00020281855953840398,\n",
       " 0.0001912867482202189,\n",
       " 0.00016830342026656376,\n",
       " 0.00021056528126347577,\n",
       " 0.00019890583533695332,\n",
       " 0.00016875841730526302,\n",
       " 0.00023954443081448056,\n",
       " 0.0002499528354776888,\n",
       " 0.00019983398357695183,\n",
       " 0.00018037021550674164,\n",
       " 0.00019793178910764532,\n",
       " 0.00018000668585192866,\n",
       " 0.00017017975939236422,\n",
       " 0.00024512025733976304,\n",
       " 0.0001876621680770672,\n",
       " 0.0001902687330668786,\n",
       " 0.0001879151309832697,\n",
       " 0.00024196205380900605,\n",
       " 0.00020775318415850867,\n",
       " 0.00021110932881945418,\n",
       " 0.00017492382533782202,\n",
       " 0.00018850842731114994,\n",
       " 0.00018702379414210828,\n",
       " 0.00018766764276691714,\n",
       " 0.00017960080431264028,\n",
       " 0.00016852062657166567,\n",
       " 0.00019116178242352917,\n",
       " 0.00021161936982223617,\n",
       " 0.00020502461326998587,\n",
       " 0.00023132982419261236,\n",
       " 0.00020135051853034227,\n",
       " 0.00020045938032522503,\n",
       " 0.00020338372927137556,\n",
       " 0.0002152839088762523,\n",
       " 0.00021550995554189465,\n",
       " 0.00017547318213365713,\n",
       " 0.00016984175326857444,\n",
       " 0.00018570104795631034,\n",
       " 0.00019322318877300966,\n",
       " 0.00017792521846263974,\n",
       " 0.00017307987421283824,\n",
       " 0.00018432719049753973,\n",
       " 0.0002040834751644052,\n",
       " 0.00019989935692750138,\n",
       " 0.0001792034161691677,\n",
       " 0.00018914794133823956,\n",
       " 0.00017408520557107742,\n",
       " 0.0001809783442704339,\n",
       " 0.00023090254576690802,\n",
       " 0.00020453388527613564,\n",
       " 0.0001777524025588244,\n",
       " 0.00018985126421690025,\n",
       " 0.00016999585300809996,\n",
       " 0.00019736017107524796,\n",
       " 0.00020354757183031625,\n",
       " 0.0002033621162193806,\n",
       " 0.00017946704498087994,\n",
       " 0.00020261210714668195,\n",
       " 0.00019452620179333997,\n",
       " 0.0001748357758530348,\n",
       " 0.00020042047138547174,\n",
       " 0.0001694684276294283,\n",
       " 0.0001716357864256604,\n",
       " 0.00020275787704335311,\n",
       " 0.00019757866484063858,\n",
       " 0.0002068803912599605,\n",
       " 0.0001622649498872471,\n",
       " 0.00023255865635172073,\n",
       " 0.00022146229726522116,\n",
       " 0.0001905387408282952,\n",
       " 0.0001815958059986088,\n",
       " 0.00019294738910920155,\n",
       " 0.0002052943612581039,\n",
       " 0.00017770135309547186,\n",
       " 0.00017757634493974176,\n",
       " 0.00020688335658489073,\n",
       " 0.00020800302608711677,\n",
       " 0.0001804223720682785,\n",
       " 0.00019003645299469726,\n",
       " 0.0002273045154970382,\n",
       " 0.00018909800449607543,\n",
       " 0.00017326836733196681,\n",
       " 0.00019437130371557408,\n",
       " 0.00020408337805558475,\n",
       " 0.00018497507888769958,\n",
       " 0.00016921761062644767,\n",
       " 0.0002336975485977806,\n",
       " 0.0002767349159761513,\n",
       " 0.0001940674113152739,\n",
       " 0.0001873200406395698,\n",
       " 0.000193007447985047,\n",
       " 0.00016563579692926392,\n",
       " 0.0001657940957848161,\n",
       " 0.000175582349689204,\n",
       " 0.00016499448739754484,\n",
       " 0.00019694716416425364,\n",
       " 0.0002601155747080117,\n",
       " 0.00018235938936677875,\n",
       " 0.0001747129015699828,\n",
       " 0.00019686713410547562,\n",
       " 0.00017593782008033885,\n",
       " 0.00016913901698097845,\n",
       " 0.0001667068548221602,\n",
       " 0.00017059140675585938,\n",
       " 0.00018134161746575077,\n",
       " 0.0001700229857023959,\n",
       " 0.00015454116361346342,\n",
       " 0.0001931543485607288,\n",
       " 0.0001936611543557831,\n",
       " 0.000177061746329939,\n",
       " 0.0002637977875913601,\n",
       " 0.00016221561490845475,\n",
       " 0.00015974135929372826,\n",
       " 0.00018589736952557054,\n",
       " 0.0001977327702472466,\n",
       " 0.00020874681135850094,\n",
       " 0.00016762065285664643,\n",
       " 0.0001824712201149169,\n",
       " 0.00016904116742963757,\n",
       " 0.00020077281128983983,\n",
       " 0.00017873598884125686,\n",
       " 0.00018784812637743088,\n",
       " 0.00021577852059858038,\n",
       " 0.00018980726551667175,\n",
       " 0.0001881151989743224,\n",
       " 0.00017807630677215707,\n",
       " 0.00019007903670126774,\n",
       " 0.00017974338191292455,\n",
       " 0.00019548303060957443,\n",
       " 0.0001688627161165521,\n",
       " 0.00017191335493959978,\n",
       " 0.0002414231262459472,\n",
       " 0.00017920832033269107,\n",
       " 0.0001893674539057876,\n",
       " 0.00017805797630565998,\n",
       " 0.00021048418310372523,\n",
       " 0.00017356512127344252,\n",
       " 0.0001712010447404627,\n",
       " 0.00020342509186574605,\n",
       " 0.00022631219002109315,\n",
       " 0.00017038505927720275,\n",
       " 0.0001626004627828944,\n",
       " 0.00016319688801267937,\n",
       " 0.00016170723241578676,\n",
       " 0.0001646773136371098,\n",
       " 0.00016240994507453032,\n",
       " 0.00016306706293287807,\n",
       " 0.00016184567727214617,\n",
       " 0.0001862218415037277,\n",
       " 0.00016206824538169627,\n",
       " 0.00016381464327651723,\n",
       " 0.00018617335932479906,\n",
       " 0.00019681689369018888,\n",
       " 0.0001752910921453858,\n",
       " 0.00016307678663789635,\n",
       " 0.0001617074030045752,\n",
       " 0.00022737147464615173,\n",
       " 0.0001755855270494667,\n",
       " 0.00022713588302872043,\n",
       " 0.00017463978179791949,\n",
       " 0.0001868883909482014,\n",
       " 0.00018893374310131723,\n",
       " 0.00016160194383413152,\n",
       " 0.00016643499320437486,\n",
       " 0.00016643860745827726,\n",
       " 0.00016996394327542785,\n",
       " 0.00016102706542831812,\n",
       " 0.00017260005549687535,\n",
       " 0.00017406409203878637,\n",
       " 0.00016015566031662932,\n",
       " 0.00016945023910413734,\n",
       " 0.0001712173201451493,\n",
       " 0.00016813832434588158,\n",
       " 0.00016907133170090025,\n",
       " 0.00017796647948176036,\n",
       " 0.0001705167651320147,\n",
       " 0.00017965854669647544,\n",
       " 0.000173416577531993,\n",
       " 0.00017408102705825747,\n",
       " 0.0001848910469081554,\n",
       " 0.00020404308970953052,\n",
       " 0.000180543674432316,\n",
       " 0.0001733837936758586,\n",
       " 0.00018709267894664422,\n",
       " 0.00018802460768296947,\n",
       " 0.0001607746884168015,\n",
       " 0.0001627260936453336,\n",
       " 0.0001638894639897741,\n",
       " 0.0001668547288873525,\n",
       " 0.00021321602120938658,\n",
       " 0.00020587419668018891,\n",
       " 0.0002668111983409287,\n",
       " 0.00019942419040600828,\n",
       " 0.00017326283520287388,\n",
       " 0.00018335427355448478,\n",
       " 0.00015629026463459685,\n",
       " 0.00015279606107922836,\n",
       " 0.00017568376453181502,\n",
       " 0.00024605627240276536,\n",
       " 0.00019296406728496756,\n",
       " 0.00018802562209073662,\n",
       " 0.00022027545170389768,\n",
       " 0.0001753089069313886,\n",
       " 0.00016479921956944645,\n",
       " 0.00017187575785740565,\n",
       " 0.00016412308029277196,\n",
       " 0.00018124021818360356,\n",
       " 0.0001592375678102495,\n",
       " 0.00017928674737554005,\n",
       " 0.0001723031064252624,\n",
       " 0.00016737155658162197,\n",
       " 0.00018496779599031066,\n",
       " 0.0001644043790196874,\n",
       " 0.0001854267068218406,\n",
       " 0.00017085489871713453,\n",
       " 0.0001809092826097005,\n",
       " 0.00016352599902614865,\n",
       " 0.00018342508593548808,\n",
       " 0.00015697250226835287,\n",
       " 0.00015876136529324698,\n",
       " 0.00018353472104935413,\n",
       " 0.00016904506040314404,\n",
       " 0.00015889139227486882,\n",
       " 0.0001671406183593135,\n",
       " 0.00018348502284899453,\n",
       " 0.00016785910063563068,\n",
       " 0.00015713955539762022,\n",
       " 0.00019139375258313965,\n",
       " 0.00016969594382239113,\n",
       " 0.00015783382556823822,\n",
       " 0.0001696866486304541,\n",
       " 0.00016898222854699042,\n",
       " 0.0001747368331070722,\n",
       " 0.00015874738400039747,\n",
       " 0.00016931558000296508,\n",
       " 0.0001937455326997254,\n",
       " 0.00018080292419813228,\n",
       " 0.000175578409193849,\n",
       " 0.00017795662394503483,\n",
       " 0.00019021606517121158,\n",
       " 0.0001819169545810702,\n",
       " 0.0001921752403300446,\n",
       " 0.00017558246466374216,\n",
       " 0.0001597762115629353,\n",
       " 0.00016798966051511182,\n",
       " 0.00016690500964458246,\n",
       " 0.00017404317402084152,\n",
       " 0.00016122373050442211,\n",
       " 0.0002748486788585327,\n",
       " 0.00019742364170284875,\n",
       " 0.00017077620306418033,\n",
       " 0.0001799713095937081,\n",
       " 0.00016903299801804665,\n",
       " 0.00014724486335830012,\n",
       " 0.000166293650163605,\n",
       " 0.00018496062067143693,\n",
       " 0.00016527016589144497,\n",
       " 0.00015548982894933311,\n",
       " 0.0001713054348974375,\n",
       " 0.0001708324987571164,\n",
       " 0.00015283383631432528,\n",
       " 0.000170212054798816,\n",
       " 0.0001728862661675461,\n",
       " 0.00017605580095771898,\n",
       " 0.00016448639553495937,\n",
       " 0.00016022252475822855,\n",
       " 0.00016227028458094895,\n",
       " 0.00016653226961196545,\n",
       " 0.0001506791481060105,\n",
       " 0.00015608352994532463,\n",
       " 0.00015883956063406622,\n",
       " 0.000169122680270946,\n",
       " 0.0001630262855848408,\n",
       " 0.00016104272818776838,\n",
       " 0.00018066518871162068,\n",
       " 0.0001766730218348877,\n",
       " 0.0001825760200787981,\n",
       " 0.00016452253053388205,\n",
       " 0.00016880758959556417,\n",
       " 0.00021727787175718327,\n",
       " 0.00016638147884829235,\n",
       " 0.00017199041102874545,\n",
       " 0.0001547181697964988,\n",
       " 0.00018723234964577673,\n",
       " 0.00016938841121006917,\n",
       " 0.00016192767945162048,\n",
       " 0.00015386368707341077,\n",
       " 0.00015584156699032943,\n",
       " 0.0002209203404784756,\n",
       " 0.00019377140629315816,\n",
       " 0.00014838840328437421,\n",
       " 0.00016572450098609274,\n",
       " 0.00015280783309838688,\n",
       " 0.00015982797896879858,\n",
       " 0.00016029721873054718,\n",
       " 0.00016877577581908554,\n",
       " 0.0001583797508975946,\n",
       " 0.00016344684208228433,\n",
       " 0.00015549544051363326,\n",
       " 0.0001612894484664163,\n",
       " 0.0001854829657507796,\n",
       " 0.00017954543806926007,\n",
       " 0.00018437635253426365,\n",
       " 0.0001927828222202758,\n",
       " 0.00017891586261606243,\n",
       " 0.00016284003348467047,\n",
       " 0.00015888747490409196,\n",
       " 0.00016352940780028436,\n",
       " 0.00015937957260296634,\n",
       " 0.00016006140273506985,\n",
       " 0.00016775555792360693,\n",
       " 0.0001716260954744579,\n",
       " 0.00018347894533525034,\n",
       " 0.0001549258947363984,\n",
       " 0.00017224367822846244,\n",
       " 0.00019538939967286611,\n",
       " 0.00018262777293274617,\n",
       " 0.0001625971534468461,\n",
       " 0.0001787279208128113,\n",
       " 0.00015764941029917609,\n",
       " 0.0001659524627173974,\n",
       " 0.00016943123439890133,\n",
       " 0.00015303839395543493,\n",
       " 0.00014844712972346687,\n",
       " 0.00015672855750339108,\n",
       " 0.00017831214802937502,\n",
       " 0.00016704305362689429,\n",
       " 0.00015434989362391076,\n",
       " 0.00016079595805800493,\n",
       " 0.0001695570155110659,\n",
       " 0.00016841096561974554,\n",
       " 0.00016658685838445567,\n",
       " 0.0001520940808908977,\n",
       " 0.00015391688885147263,\n",
       " 0.00021106540338307613,\n",
       " 0.000160618452115135,\n",
       " 0.00017887199274590853,\n",
       " 0.00016103771065858195,\n",
       " 0.00015516860468970864,\n",
       " 0.0001673988501154034,\n",
       " 0.00015862273964254806,\n",
       " 0.0001703959841875931,\n",
       " 0.00015725304816177933,\n",
       " 0.00016309611441486088,\n",
       " 0.00017472490065665024,\n",
       " 0.0001762221177024444,\n",
       " 0.00016624053524078635,\n",
       " 0.0001563278496382211,\n",
       " 0.00016549811573628422,\n",
       " 0.0001573724861517272,\n",
       " 0.00014774148823964647,\n",
       " 0.00016358719955497381,\n",
       " 0.00015872321259683742,\n",
       " 0.000179117163005454,\n",
       " 0.00018175464255463258,\n",
       " 0.00015260135318769647,\n",
       " 0.0001615609442452107,\n",
       " 0.00015651737320584186,\n",
       " 0.0001692314388840567,\n",
       " 0.00015384235811994563,\n",
       " 0.00015211131895520407,\n",
       " 0.0001802996763703644,\n",
       " 0.0001549546053289611,\n",
       " 0.00016436787390744885,\n",
       " 0.00015443360089883822,\n",
       " 0.00016985162547036465,\n",
       " 0.00015337905040081504,\n",
       " 0.0002005032050027973,\n",
       " 0.00017020432566670646,\n",
       " 0.00017224254409157097,\n",
       " 0.0001485597701680235,\n",
       " 0.0001622980992461896,\n",
       " 0.00014985423463453591,\n",
       " 0.00015386012495186474,\n",
       " 0.00021009975233616266,\n",
       " 0.000158650027125038,\n",
       " 0.00016275283055635102,\n",
       " 0.00015240014810614572,\n",
       " 0.00015364774186225614,\n",
       " 0.0001804748721606722,\n",
       " 0.00015422563578029817,\n",
       " 0.0001688752751277795,\n",
       " 0.00015765467473066014,\n",
       " 0.00014603739026503596,\n",
       " 0.0001800985680614512,\n",
       " 0.00015709279574762736,\n",
       " 0.00018133514085492557,\n",
       " 0.00014549273455426368,\n",
       " 0.00015862009585251041,\n",
       " 0.00016369624824586658,\n",
       " 0.00015877870951929796,\n",
       " 0.00018019703042611984,\n",
       " 0.00017830668186416185,\n",
       " 0.0001627948968054607,\n",
       " 0.00015381115859757844,\n",
       " 0.0001510499173866757,\n",
       " 0.0001452672513190883,\n",
       " 0.0001510102334733908,\n",
       " 0.00015892771390330494,\n",
       " 0.00017431150245281988,\n",
       " 0.0001618199140187307,\n",
       " 0.00015173441628240074,\n",
       " 0.00016115327450126355,\n",
       " 0.0001762935999758225,\n",
       " 0.00016954855277992957,\n",
       " 0.0001572391730306744,\n",
       " 0.00015030526956612484,\n",
       " 0.00020027612003639168,\n",
       " 0.0001708595227682963,\n",
       " 0.00019588665055071092,\n",
       " 0.00015906778365149234,\n",
       " 0.00017088646787255635,\n",
       " 0.00016900382051551746,\n",
       " 0.00016125370408796394,\n",
       " 0.00014327380199349567,\n",
       " 0.00014909989848020625,\n",
       " 0.00016758844646661336,\n",
       " 0.00016173793844572842,\n",
       " 0.00015783324714161443,\n",
       " 0.00016012961188409625,\n",
       " 0.00015297524474266143,\n",
       " 0.0001475898483741211,\n",
       " 0.00014972672105202815,\n",
       " 0.00015022970910649747,\n",
       " 0.00015278890684382258,\n",
       " 0.00016275862096993272,\n",
       " 0.00014795718486758914,\n",
       " 0.00018122971984123651,\n",
       " 0.00015270384153421882,\n",
       " 0.00018703132435001692,\n",
       " 0.00018906023396753858,\n",
       " 0.000144183387920889,\n",
       " 0.0001473010094738765,\n",
       " 0.00014298532112799707,\n",
       " 0.00017289733189052869,\n",
       " 0.000148192449523176,\n",
       " 0.00015786190144756115,\n",
       " 0.00014760415175416362,\n",
       " 0.0001558887648546804,\n",
       " 0.00020302979009711604,\n",
       " 0.00018410675251463016,\n",
       " 0.00015290611257957965,\n",
       " 0.00017051709507147876,\n",
       " 0.00014797125570514477,\n",
       " 0.0001430899847937416,\n",
       " 0.00018861286285281082,\n",
       " 0.00017508963624740837,\n",
       " 0.0001434535628108603,\n",
       " 0.00018119185347657146,\n",
       " 0.0001687717806700027,\n",
       " 0.00015802854128802815,\n",
       " 0.00018106946380111227,\n",
       " 0.0001607273571598943,\n",
       " 0.0001903725161496473,\n",
       " 0.00017211976122624386,\n",
       " 0.00015974941759688393,\n",
       " 0.00020087613512280862,\n",
       " 0.00017583949125230485,\n",
       " 0.00017240712241071396,\n",
       " 0.0001608139513090803,\n",
       " 0.00015291383388343116,\n",
       " 0.00015055560553945885,\n",
       " 0.00014080161078166057,\n",
       " 0.00014438157528100947,\n",
       " 0.00015955481766807622,\n",
       " 0.0001500858469515049,\n",
       " 0.0001597824153373565,\n",
       " 0.00014777695017647024,\n",
       " 0.00014695772311800826,\n",
       " 0.00014760628202488253,\n",
       " 0.00014960504293160532,\n",
       " 0.0001496348616309009,\n",
       " 0.00015600604793650832,\n",
       " 0.00017148762170637253,\n",
       " 0.00016132794260454637,\n",
       " 0.000174053984845177,\n",
       " 0.0002594881906868005,\n",
       " 0.00019149023648766376,\n",
       " 0.00015085610984086917,\n",
       " 0.0001830272832305229,\n",
       " 0.0001474858082555428,\n",
       " 0.00014395612914794471,\n",
       " 0.00015436146926425286,\n",
       " 0.00014570114530719779,\n",
       " 0.00014671381693002968,\n",
       " 0.00014306964986095445,\n",
       " 0.00014970362778690032,\n",
       " 0.0001497976310941523,\n",
       " 0.0001599269223871269,\n",
       " 0.00020079450305665017,\n",
       " 0.0001734821399613883,\n",
       " 0.0001702674848689135,\n",
       " 0.00016235339580366554,\n",
       " 0.00016422342470514344,\n",
       " 0.0001446325456314004,\n",
       " 0.00014684264164970475,\n",
       " 0.00016193086776183918,\n",
       " 0.0001603951882991691,\n",
       " 0.00016302636401149944,\n",
       " 0.0001783727314465344,\n",
       " 0.00016026433375541108,\n",
       " 0.00015813419923859436,\n",
       " 0.0001474866189124837,\n",
       " 0.0001464109297164811,\n",
       " 0.00016879690438355305,\n",
       " 0.0001616208542160622,\n",
       " 0.00014766307634903923,\n",
       " 0.0001654267466124516,\n",
       " 0.00015563196312442495,\n",
       " 0.00014463683652534787,\n",
       " 0.00014664798358527531,\n",
       " 0.0001802616775256394,\n",
       " 0.0001501711903803862,\n",
       " 0.00014021454300968094,\n",
       " 0.00014531329201802185,\n",
       " 0.0001401297475348485,\n",
       " 0.0001660127966628616,\n",
       " 0.00018414052678948335,\n",
       " 0.0001699530306717315,\n",
       " 0.0001419239020059208,\n",
       " 0.00014160949517450243,\n",
       " 0.00014511791962504745,\n",
       " 0.00014597233580794224,\n",
       " 0.00017484744267097117,\n",
       " 0.0001405337210683146,\n",
       " 0.00014939318063727307,\n",
       " 0.00015062185003585104,\n",
       " 0.00015033521899252686,\n",
       " 0.00014125569239443187,\n",
       " 0.00015558598843739727,\n",
       " 0.00017837911613536046,\n",
       " 0.00014337207554346228,\n",
       " 0.0001493732430246004,\n",
       " 0.0001514119249976028,\n",
       " 0.00018476749797814246,\n",
       " 0.00014573209122762317,\n",
       " 0.00015291559857930282,\n",
       " 0.0001424523247670991,\n",
       " 0.0001403335291458518,\n",
       " 0.00016264801462378395,\n",
       " 0.0001617707292896637,\n",
       " 0.00015399177358355127,\n",
       " 0.00018218605665385525,\n",
       " 0.00016853726690284687,\n",
       " 0.00015405977497157016,\n",
       " 0.0001406677838291192,\n",
       " 0.00013930856012209033,\n",
       " 0.00014687505042181956,\n",
       " 0.00019382506520787052,\n",
       " 0.00015803756402777016,\n",
       " 0.00015704598041134502,\n",
       " 0.00017877917426712073,\n",
       " 0.00014224000444763306,\n",
       " 0.00018885593828491608,\n",
       " 0.0001537267728816263,\n",
       " 0.0001559551857510219,\n",
       " 0.00014705886308310505,\n",
       " 0.0001515428529492896,\n",
       " 0.0001570832202031981,\n",
       " 0.00015147267376870323,\n",
       " 0.00015347254491932137,\n",
       " 0.00013850069777323885,\n",
       " 0.00014581871440860045,\n",
       " 0.0001649082186493543,\n",
       " 0.00015961597826318023,\n",
       " 0.00015300454699304479,\n",
       " 0.00014648073664658915,\n",
       " 0.0001566549766925548,\n",
       " 0.0001470397191741519,\n",
       " 0.00015190956558342163,\n",
       " 0.00014657336405344713,\n",
       " 0.00014940365494256561,\n",
       " 0.00014235222291066112,\n",
       " 0.00013384173755136722,\n",
       " 0.00015076433508979655,\n",
       " 0.00018256589350664816,\n",
       " 0.00015924588756761806,\n",
       " 0.00016380925167185984,\n",
       " 0.00016814326019463954,\n",
       " 0.0001459433840762166,\n",
       " 0.00015675199993043867,\n",
       " 0.00015371904763963271,\n",
       " 0.00015348349756479768,\n",
       " 0.00014350274607513052,\n",
       " 0.00014967532372346114,\n",
       " 0.0001498598597422027,\n",
       " 0.00014416131473061084,\n",
       " 0.00017009685934050986,\n",
       " 0.0001575257538626871,\n",
       " 0.00014013081930981943,\n",
       " 0.00015381571649275598,\n",
       " 0.00016420048620419657,\n",
       " 0.0001414141714800166,\n",
       " 0.0001380798875057621,\n",
       " 0.00015673202680244815,\n",
       " 0.00015409716979174787,\n",
       " 0.00014842928636192096,\n",
       " 0.00014481724850489932,\n",
       " 0.00014410000114829246,\n",
       " 0.00015068718587799864,\n",
       " 0.00015428693262551274,\n",
       " 0.00017369801930471542,\n",
       " 0.0001534149301408947,\n",
       " 0.0001510340885528926,\n",
       " 0.00014660737192736194,\n",
       " 0.00013756739500953843,\n",
       " 0.00016898986676564938,\n",
       " 0.00015094566809031927,\n",
       " 0.00016045210660276197,\n",
       " 0.0001364065012041627,\n",
       " 0.0001398284165357722,\n",
       " 0.00019052288490777877,\n",
       " 0.00021604907417688334,\n",
       " 0.00018234066215648068,\n",
       " 0.00014609893077078488,\n",
       " 0.0001519485127039426,\n",
       " 0.00015984303741554482,\n",
       " 0.0001555248646303034,\n",
       " 0.00015072707925721843,\n",
       " 0.00015959153810543662,\n",
       " 0.00016851225095991623,\n",
       " 0.0001522736153851583,\n",
       " 0.00014191242412275176,\n",
       " 0.0001357834213321088,\n",
       " 0.00014130932931317994,\n",
       " 0.00014696956981778784,\n",
       " 0.00016331480016467767,\n",
       " 0.00020208884520062765,\n",
       " 0.0001456956744354246,\n",
       " 0.00013989806810137277,\n",
       " 0.00014150614233375541,\n",
       " 0.00014090709281253873,\n",
       " 0.00014163353657134788,\n",
       " 0.00014581618501678748,\n",
       " 0.00015606982667570036,\n",
       " 0.00016418750579976063,\n",
       " 0.0001467399531783284,\n",
       " 0.00016023294248874838,\n",
       " 0.00013550115591137924,\n",
       " 0.00014543611732643503,\n",
       " 0.0001590363005588827,\n",
       " 0.0001425908528527294,\n",
       " 0.0001372590575754495,\n",
       " 0.0001580775721173844,\n",
       " 0.0001454453043875564,\n",
       " 0.00014866348627836384,\n",
       " 0.00014913750473538986,\n",
       " 0.00015466385350021666,\n",
       " 0.00015116693995080016,\n",
       " 0.00013536559310265304,\n",
       " 0.0001376105595200258,\n",
       " 0.000138800950273687,\n",
       " 0.00014555110084546097,\n",
       " 0.00013389270246473047,\n",
       " 0.00013410626171408806,\n",
       " 0.00015412138268987806,\n",
       " 0.00017544386953364431,\n",
       " 0.0001598452709184148,\n",
       " 0.00016689931787665713,\n",
       " 0.00014262578594990123,\n",
       " 0.00016471855580597723,\n",
       " 0.00014807819542490412,\n",
       " 0.00014090782196914912,\n",
       " 0.00016309990422825541,\n",
       " 0.00015571817803533176,\n",
       " 0.00013622628048864553,\n",
       " 0.00013228881346882495,\n",
       " 0.00014288376316753994,\n",
       " 0.00015210314409264822,\n",
       " 0.00014809183186617841,\n",
       " 0.00015009029184121533,\n",
       " 0.00014014149119458147,\n",
       " 0.00014639842395421744,\n",
       " 0.00014246574660364337,\n",
       " 0.0001354879465183895,\n",
       " 0.000136148858584522,\n",
       " 0.00013581742930207587,\n",
       " 0.00014188935102859554,\n",
       " 0.00017207476795303694,\n",
       " 0.00013861415033953312,\n",
       " 0.0001350427632336889,\n",
       " 0.00013562895433682175,\n",
       " 0.00014517397763670143,\n",
       " 0.00016055576162387405,\n",
       " 0.00014831825107045583,\n",
       " 0.00013832298594238022,\n",
       " 0.00015775566631905035,\n",
       " 0.000135722595022833,\n",
       " 0.00017680819760108974,\n",
       " 0.00016244670306831882,\n",
       " 0.00018772256428839965,\n",
       " 0.00016396455297695332,\n",
       " 0.00020476342123170867,\n",
       " 0.00017737458522851108,\n",
       " 0.00017447642511926384,\n",
       " 0.00019462912398384325,\n",
       " 0.00017149034188195862,\n",
       " 0.00014705343466642445,\n",
       " 0.00015894034494171012,\n",
       " 0.00018967740657845384,\n",
       " 0.00014719068227956691,\n",
       " 0.00014693358038604358,\n",
       " 0.0001674565544145231,\n",
       " 0.00015547784182117028,\n",
       " 0.00015037038177463132,\n",
       " 0.00015197080859135245,\n",
       " 0.00014701420940261292,\n",
       " 0.00015995124838677643,\n",
       " 0.00014510204228488022,\n",
       " 0.0001369261838113059,\n",
       " 0.00014778564279665019,\n",
       " 0.00015097839429109317,\n",
       " 0.0001456873715112121,\n",
       " 0.00014434794597300814,\n",
       " 0.00015831675344736933,\n",
       " 0.00014858185488457113,\n",
       " 0.0001601934696742865,\n",
       " 0.00019368610354240297,\n",
       " 0.00016519838727287574,\n",
       " 0.00014657133941618547,\n",
       " 0.00015456674030940462,\n",
       " 0.0001423674511057386,\n",
       " 0.0001515169454974402,\n",
       " 0.00014367642395179904,\n",
       " 0.00015202060423671535,\n",
       " 0.0001508730821286116,\n",
       " 0.00014314660893733193,\n",
       " 0.00014407680837303806,\n",
       " 0.00014035923279884883,\n",
       " 0.0001446960235349588,\n",
       " 0.00016391845356608455,\n",
       " 0.00014450768688493854,\n",
       " 0.0001410443623976324,\n",
       " 0.00016103353310628447,\n",
       " 0.0001387612254661585,\n",
       " 0.00014621973863384832,\n",
       " 0.0001479105192287318,\n",
       " 0.00014997051927728253,\n",
       " 0.00013994226438107074,\n",
       " 0.00014325294801838568,\n",
       " 0.00014787817219419792,\n",
       " 0.00014686775779914073,\n",
       " 0.00015957502153757407,\n",
       " 0.00019907257540793875,\n",
       " 0.00018028536189628746,\n",
       " 0.00015173811463004426,\n",
       " 0.00014346597424981863,\n",
       " 0.00014117152843910204,\n",
       " 0.00015727129621544958,\n",
       " 0.00013364226532436866,\n",
       " 0.0001413417515085961,\n",
       " 0.00013838776703478257,\n",
       " 0.00014385519483070606,\n",
       " 0.000160639024248943,\n",
       " 0.00015223418533795885,\n",
       " 0.0001368520153408237,\n",
       " 0.00014035647453854733,\n",
       " 0.00014856808651553732,\n",
       " 0.00015574258063664727,\n",
       " 0.00013736926357583803,\n",
       " 0.00014318008643475887,\n",
       " 0.00015498493591468727,\n",
       " 0.00013822455628350125,\n",
       " 0.00014226030441740275,\n",
       " 0.00013575545766582195,\n",
       " 0.00013401997555642796,\n",
       " 0.0001403448033982599,\n",
       " 0.00015036775827563056,\n",
       " 0.0001497030801450213,\n",
       " 0.0001376277345380394,\n",
       " 0.00014237221335206893,\n",
       " 0.00015573661000503952,\n",
       " 0.000162614809962761,\n",
       " 0.00013957387801254376,\n",
       " 0.00013942286431160834,\n",
       " 0.00015028183569973366,\n",
       " 0.0001673016784287737,\n",
       " 0.00014597790688622078,\n",
       " 0.00016743393837297167,\n",
       " 0.00016078413347425492,\n",
       " 0.00015122423204170731,\n",
       " 0.00014425770805786723,\n",
       " 0.0001382370772460328,\n",
       " 0.00013128285978808568,\n",
       " 0.00015229771011501317,\n",
       " 0.0001440069092327741,\n",
       " 0.0001583776736717284,\n",
       " 0.00018127745398928844,\n",
       " 0.00014423236781854195,\n",
       " 0.00013748071683865047,\n",
       " 0.00015064209631241538,\n",
       " 0.00013592055161743311,\n",
       " 0.00013201329816769035,\n",
       " 0.00013166076899237206,\n",
       " 0.0001345346274992402,\n",
       " 0.0001313151246018972,\n",
       " 0.000154512415608551,\n",
       " 0.00015550686756115123,\n",
       " 0.00018951106829401227,\n",
       " 0.0001490195983465263,\n",
       " 0.00013773520644727276,\n",
       " 0.00014279813614440312,\n",
       " 0.0001497909375493301,\n",
       " 0.0001500318191721559,\n",
       " 0.0001546740900281749,\n",
       " 0.00013581422062878106,\n",
       " 0.0001405606679495412,\n",
       " 0.00015898793275416568,\n",
       " 0.00015414703853286975,\n",
       " 0.0001768998840321224,\n",
       " 0.00013051847452774225,\n",
       " 0.00014903493789016967,\n",
       " 0.00014443751606089755,\n",
       " 0.00014180652217546836,\n",
       " 0.00013581600532753288,\n",
       " 0.000140102843685028,\n",
       " 0.00013748446957587815,\n",
       " 0.00013208815638934916)"
      ]
     },
     "execution_count": 82,
     "metadata": {},
     "output_type": "execute_result"
    }
   ],
   "source": [
    "ordered_losses"
   ]
  },
  {
   "cell_type": "code",
   "execution_count": 83,
   "metadata": {},
   "outputs": [
    {
     "data": {
      "text/plain": [
       "[<matplotlib.lines.Line2D at 0x1829eb1198>]"
      ]
     },
     "execution_count": 83,
     "metadata": {},
     "output_type": "execute_result"
    },
    {
     "data": {
      "image/png": "[encoded data removed]",
      "text/plain": [
       "<Figure size 432x288 with 1 Axes>"
      ]
     },
     "metadata": {},
     "output_type": "display_data"
    }
   ],
   "source": [
    "plt.plot(ordered_losses)"
   ]
  },
  {
   "cell_type": "code",
   "execution_count": 95,
   "metadata": {},
   "outputs": [
    {
     "data": {
      "text/plain": [
       "[<matplotlib.lines.Line2D at 0x1831c5b438>]"
      ]
     },
     "execution_count": 95,
     "metadata": {},
     "output_type": "execute_result"
    },
    {
     "data": {
      "image/png": "[encoded data removed]",
      "text/plain": [
       "<Figure size 432x288 with 1 Axes>"
      ]
     },
     "metadata": {},
     "output_type": "display_data"
    }
   ],
   "source": [
    "plt.plot(np.log(ordered_losses[2:]))"
   ]
  },
  {
   "cell_type": "code",
   "execution_count": 98,
   "metadata": {},
   "outputs": [
    {
     "data": {
      "text/plain": [
       "[<matplotlib.lines.Line2D at 0x18318599b0>]"
      ]
     },
     "execution_count": 98,
     "metadata": {},
     "output_type": "execute_result"
    },
    {
     "data": {
      "image/png": "[encoded data removed]",
      "text/plain": [
       "<Figure size 432x288 with 1 Axes>"
      ]
     },
     "metadata": {},
     "output_type": "display_data"
    }
   ],
   "source": [
    "plt.plot(ordered_losses[3:])"
   ]
  },
  {
   "cell_type": "markdown",
   "metadata": {},
   "source": [
    "## Notes on SGD\n",
    "https://stats.stackexchange.com/questions/406183/does-keras-sgd-optimizer-implement-batch-mini-batch-or-stochastic-gradient-des\n",
    "\n",
    "Gradent descent would mean batch size =1, and would update the gradien after every samepl\n",
    "Stochastic Gradient Descent\n",
    "\n",
    "\n",
    "\n",
    "The pseudocode sketch below summarizes the gradient descent algorithm:\n",
    "\n",
    "`model = initialization(...)\n",
    "n_epochs = ...\n",
    "train_data = ...\n",
    "for i in n_epochs:\n",
    "\ttrain_data = shuffle(train_data)\n",
    "\tX, y = split(train_data)\n",
    "\tpredictions = predict(X, model)\n",
    "\terror = calculate_error(y, predictions)\n",
    "    model = update_model(model, error)`\n",
    "    \n",
    "Okay so GD doesn't update until we calculate the error from ALL the prediction in one epoch\n",
    "\n",
    "SGD updates the wieghts after every record in a single epoch\n",
    "\n",
    "batch SGD... more the 1 record but less than all records, for updates"
   ]
  },
  {
   "cell_type": "markdown",
   "metadata": {
    "collapsed": true
   },
   "source": [
    "- Gradient Descent: updating the network after using the loss from just __ALL__ observations\n",
    "  - this uses overall loss, like sum of all losses\n",
    "\n",
    "\n",
    "- Stochastic Gradient Descent: updating the network after using the loss from __1__ record\n",
    "  - records are randomized also, to randomize how/when weights will be updated\n",
    "  - > `Stochastic gradient descent, often abbreviated SGD, is a variation of the gradient descent algorithm that calculates the error and updates the model for each example in the training dataset.`\n",
    "\n",
    "\n",
    "- Batch Gradient Descent: updating the network after using the loss from ??? records\n",
    "  - normally, the batch size is ???\n",
    "  - > `Batch gradient descent is a variation of the gradient descent algorithm that calculates the error for each example in the training dataset, but only updates the model after all training examples have been evaluated.\n",
    "  One cycle through the entire training dataset is called a training epoch. Therefore, it is often said that batch gradient descent performs model updates at the end of each training epoch.`\n",
    "  \n",
    "#### What is Mini-Batch Gradient Descent?\n",
    "- Mini-batch gradient descent is a variation of the gradient descent algorithm that splits the training dataset into small batches that are used to calculate model error and update model coefficients.\n",
    "\n",
    "- Implementations may choose to sum the gradient over the mini-batch which further reduces the variance of the gradient.\n",
    "\n",
    "- Mini-batch gradient descent seeks to find a balance between the robustness of stochastic gradient descent and the efficiency of batch gradient descent. It is the most common implementation of gradient descent used in the field of deep learning.\n",
    "\n",
    "\n",
    "> Basically, in SGD, we are using the cost gradient of 1 example at each iteration, instead of using the sum of the cost gradient of ALL examples.\n",
    "> https://towardsdatascience.com/difference-between-batch-gradient-descent-and-stochastic-gradient-descent-1187f1291aa1\n",
    "\n",
    "> c) Mini-batch gradient descent uses __n__ data points (instead of __1__ sample in SGD) at each iteration.\n",
    "\n",
    "\n",
    "\n",
    "### Batch = ALL\n",
    "### Mini-Batch = Some\n",
    "### Stochastic = 1 (w shuffle)"
   ]
  },
  {
   "cell_type": "markdown",
   "metadata": {},
   "source": [
    "### Use this to implement mini-batch gradient descent, with a batch size of 40.\n",
    "Keras default is 32\n",
    "\n",
    "https://stats.stackexchange.com/questions/221886/how-to-set-mini-batch-size-in-sgd-in-keras\n",
    "\n",
    "If you change this setting to be the length if the input data, then that would be batch, and updating would only happen at the end of 1 epoch.\n",
    "\n",
    "Why __40__? Well, since we know that a trading day is 8 hours, and thay each record is abour a particular trading day, then we can consider 40 records to to represent $8*5=40$ $\\rightarrow$ 5 business days. Therfore, 40 records would be 1 week of data. An MLP has no memory. So updating per week of data, can be a way of adding smoothing to the estimation, in hope that predictions will be better. It's like a fake form of considering a seasonal component, like a moving average."
   ]
  },
  {
   "cell_type": "markdown",
   "metadata": {
    "collapsed": true
   },
   "source": [
    "<font color=blue size=3> Made the decision not to change Keras' default mini-batch size of 32.  \n",
    "By sheer luck, we are using 9 lags in our records. So this would mean than record 32 had the close prices from 32,33,34,35,36,37,38,39 and 40 hours ago. Therefore, this technically takes 40 lags into account.\n",
    "<br><br>\n",
    "Moreover, an MLP can't learn long-term dependencies anyway. So turning off data randomization or changing the mini-batch size wouldn't really do much.\n",
    "</font>"
   ]
  },
  {
   "cell_type": "markdown",
   "metadata": {},
   "source": [
    "<font color=purple size=3>However, when we build the LSTM, we will definitely turn off the per epoch data shuffling.</font>"
   ]
  },
  {
   "cell_type": "code",
   "execution_count": null,
   "metadata": {
    "collapsed": true
   },
   "outputs": [],
   "source": []
  }
 ],
 "metadata": {
  "kernelspec": {
   "display_name": "Python 3",
   "language": "python",
   "name": "python3"
  },
  "language_info": {
   "codemirror_mode": {
    "name": "ipython",
    "version": 3
   },
   "file_extension": ".py",
   "mimetype": "text/x-python",
   "name": "python",
   "nbconvert_exporter": "python",
   "pygments_lexer": "ipython3",
   "version": "3.6.3"
  }
 },
 "nbformat": 4,
 "nbformat_minor": 2
}
