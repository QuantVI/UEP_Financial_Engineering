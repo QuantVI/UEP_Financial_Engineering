{
 "cells": [
  {
   "cell_type": "markdown",
   "metadata": {},
   "source": [
    "### For all Normalized Training Tests\n",
    "- Random, Varying, Increasing and Decreasing logic was changed.\n",
    "- Epochs were reduced to 1000 max\n",
    "- configs also changed\n",
    "\n",
    "Find the best MLP of each type.\n",
    "Find the best MLP overall.\n"
   ]
  },
  {
   "cell_type": "code",
   "execution_count": 1,
   "metadata": {
    "collapsed": true
   },
   "outputs": [],
   "source": [
    "import pandas as pd"
   ]
  },
  {
   "cell_type": "code",
   "execution_count": 9,
   "metadata": {
    "collapsed": true
   },
   "outputs": [],
   "source": [
    "# The filenames\n",
    "varyMLP = \"varyMLP_results01.txt\"\n",
    "staticMLP = \"staticMLP_results01.txt\"\n",
    "increaseMLP = \"increaseMLP_results01.txt\"\n",
    "decreaseMLP = \"decreaseMLP_results01.txt\""
   ]
  },
  {
   "cell_type": "markdown",
   "metadata": {},
   "source": [
    "# Random sizing, normalized data"
   ]
  },
  {
   "cell_type": "code",
   "execution_count": 10,
   "metadata": {
    "collapsed": true
   },
   "outputs": [],
   "source": [
    "the_output_text = open(varyMLP,'r')\n",
    "read_output_text = the_output_text.read()\n",
    "the_output_text.close()"
   ]
  },
  {
   "cell_type": "code",
   "execution_count": 11,
   "metadata": {},
   "outputs": [
    {
     "name": "stdout",
     "output_type": "stream",
     "text": [
      "989284\n",
      "37\n"
     ]
    }
   ],
   "source": [
    "print(len(read_output_text))\n",
    "rezsplit_a = read_output_text.split(\"\\n\")\n",
    "print(len(rezsplit_a))"
   ]
  },
  {
   "cell_type": "code",
   "execution_count": 12,
   "metadata": {},
   "outputs": [
    {
     "name": "stdout",
     "output_type": "stream",
     "text": [
      "\n",
      "36\n"
     ]
    }
   ],
   "source": [
    "# Last line is just an empty new line. We remove it\n",
    "print(rezsplit_a[36])\n",
    "rezsplit_a.remove('')\n",
    "print(len(rezsplit_a))"
   ]
  },
  {
   "cell_type": "code",
   "execution_count": 13,
   "metadata": {},
   "outputs": [
    {
     "name": "stdout",
     "output_type": "stream",
     "text": [
      "36\n"
     ]
    }
   ],
   "source": [
    "result_dict_list = [eval(rez) for rez in rezsplit_a]\n",
    "print(len(result_dict_list))"
   ]
  },
  {
   "cell_type": "code",
   "execution_count": 14,
   "metadata": {},
   "outputs": [
    {
     "name": "stdout",
     "output_type": "stream",
     "text": [
      "dict_keys(['epochs', 'config', 'result'])\n",
      "{'layers': 1, 'layer': {1: 32}}\n",
      "0.0001868045348643322\n",
      "0.00020166372093863833\n"
     ]
    }
   ],
   "source": [
    "print(result_dict_list[0].keys())\n",
    "print(result_dict_list[0][\"config\"])\n",
    "print(min(result_dict_list[0][\"result\"][\"loss\"]))\n",
    "print(result_dict_list[0][\"result\"][\"loss\"][-1])"
   ]
  },
  {
   "cell_type": "markdown",
   "metadata": {},
   "source": [
    "Since overtraiing can be an issue, it's better to get the last MSE loss value, instead of the minimum MSE loss value, per network trained. This last value represents the minimized loss after all epochs, and thus, is subject to overfitting. The winner of all the trained networks would have exhibited the least overfitting (forces MSE up) but also have the lowest score."
   ]
  },
  {
   "cell_type": "code",
   "execution_count": 15,
   "metadata": {},
   "outputs": [
    {
     "name": "stdout",
     "output_type": "stream",
     "text": [
      "{'epochs': 250, 'config': {'layers': 1, 'layer': {1: 32}}, 'last_loss': 0.00020166372093863833}\n"
     ]
    }
   ],
   "source": [
    "MSE_loss_results = [{\"epochs\": item['epochs'],\n",
    "                    \"config\":item[\"config\"],\n",
    "                    \"last_loss\": item[\"result\"][\"loss\"][-1]} for item in result_dict_list]\n",
    "print(MSE_loss_results[0])"
   ]
  },
  {
   "cell_type": "code",
   "execution_count": 16,
   "metadata": {},
   "outputs": [
    {
     "name": "stdout",
     "output_type": "stream",
     "text": [
      "36\n",
      "0.0001354424024335794\n"
     ]
    },
    {
     "data": {
      "text/plain": [
       "[0.00020166372093863833,\n",
       " 0.00022402345081837388,\n",
       " 0.00020199551104134556,\n",
       " 0.00021293265378124175,\n",
       " 0.0001909192095367736]"
      ]
     },
     "execution_count": 16,
     "metadata": {},
     "output_type": "execute_result"
    }
   ],
   "source": [
    "ALL_last_loss = [d[\"last_loss\"] for d in MSE_loss_results]\n",
    "print(len(ALL_last_loss))\n",
    "print(min(ALL_last_loss))\n",
    "ALL_last_loss[:5]"
   ]
  },
  {
   "cell_type": "code",
   "execution_count": 17,
   "metadata": {},
   "outputs": [
    {
     "data": {
      "text/plain": [
       "[0.0001354424024335794,\n",
       " 0.00014373036288282075,\n",
       " 0.00014397148111834737,\n",
       " 0.00014799091524656603,\n",
       " 0.00015185584267390055,\n",
       " 0.0001522503757123949,\n",
       " 0.00015372951181141334,\n",
       " 0.0001563710935118765,\n",
       " 0.00015762507575087668,\n",
       " 0.00016117272400043646]"
      ]
     },
     "execution_count": 17,
     "metadata": {},
     "output_type": "execute_result"
    }
   ],
   "source": [
    "sorted_losses = ALL_last_loss.copy()\n",
    "sorted_losses.sort()\n",
    "sorted_losses[:10]"
   ]
  },
  {
   "cell_type": "markdown",
   "metadata": {},
   "source": [
    "Above, we have the 10 lowest MSE losses amongst the __36__ trained networks.  \n",
    "What we will do now, if go back and find the epochs used to train these networks, and their associated architecture."
   ]
  },
  {
   "cell_type": "code",
   "execution_count": 18,
   "metadata": {},
   "outputs": [
    {
     "data": {
      "text/plain": [
       "[{'epochs': 500,\n",
       "  'config': {'layers': 2, 'layer': {1: 128, 2: 96}},\n",
       "  'last_loss': 0.0001563710935118765},\n",
       " {'epochs': 500,\n",
       "  'config': {'layers': 3, 'layer': {1: 64, 2: 48, 3: 36}},\n",
       "  'last_loss': 0.00015185584267390055},\n",
       " {'epochs': 500,\n",
       "  'config': {'layers': 4, 'layer': {1: 128, 2: 96, 3: 72, 4: 90}},\n",
       "  'last_loss': 0.00014397148111834737},\n",
       " {'epochs': 1000,\n",
       "  'config': {'layers': 2, 'layer': {1: 32, 2: 40}},\n",
       "  'last_loss': 0.00015372951181141334},\n",
       " {'epochs': 1000,\n",
       "  'config': {'layers': 2, 'layer': {1: 64, 2: 80}},\n",
       "  'last_loss': 0.00016117272400043646},\n",
       " {'epochs': 1000,\n",
       "  'config': {'layers': 2, 'layer': {1: 128, 2: 96}},\n",
       "  'last_loss': 0.0001522503757123949},\n",
       " {'epochs': 1000,\n",
       "  'config': {'layers': 3, 'layer': {1: 32, 2: 40, 3: 50}},\n",
       "  'last_loss': 0.00014373036288282075},\n",
       " {'epochs': 1000,\n",
       "  'config': {'layers': 3, 'layer': {1: 64, 2: 48, 3: 60}},\n",
       "  'last_loss': 0.00014799091524656603},\n",
       " {'epochs': 1000,\n",
       "  'config': {'layers': 3, 'layer': {1: 128, 2: 96, 3: 72}},\n",
       "  'last_loss': 0.00015762507575087668},\n",
       " {'epochs': 1000,\n",
       "  'config': {'layers': 4, 'layer': {1: 64, 2: 80, 3: 60, 4: 45}},\n",
       "  'last_loss': 0.0001354424024335794}]"
      ]
     },
     "execution_count": 18,
     "metadata": {},
     "output_type": "execute_result"
    }
   ],
   "source": [
    "top_ten_losses = sorted_losses[:10]\n",
    "top_ten_networks = [ntwk for ntwk in MSE_loss_results if ntwk[\"last_loss\"] in top_ten_losses]\n",
    "top_ten_networks"
   ]
  },
  {
   "cell_type": "markdown",
   "metadata": {},
   "source": [
    "### (Old) WInner - Randomized size, Normalized Data\n",
    "`{'epochs': 5000,\n",
    "  'config': {'layers': 3, 'layer': {1: 64, 2: 80, 3: 64}},\n",
    "  'last_loss': 0.0001037829471429312}`"
   ]
  },
  {
   "cell_type": "markdown",
   "metadata": {},
   "source": [
    "### WInner - Randomized size, Normalized Data\n",
    "`{'epochs': 1000,\n",
    "  'config': {'layers': 4, 'layer': {1: 64, 2: 80, 3: 60, 4: 45}},\n",
    "  'last_loss': 0.0001354424024335794}`\n",
    "  \n",
    "runner up  \n",
    "`{'epochs': 1000,\n",
    "  'config': {'layers': 3, 'layer': {1: 32, 2: 40, 3: 50}},\n",
    "  'last_loss': 0.00014373036288282075}`\n",
    "\n",
    "third place  \n",
    "`{'epochs': 500,\n",
    "  'config': {'layers': 4, 'layer': {1: 128, 2: 96, 3: 72, 4: 90}},\n",
    "  'last_loss': 0.00014397148111834737}`"
   ]
  },
  {
   "cell_type": "code",
   "execution_count": null,
   "metadata": {
    "collapsed": true
   },
   "outputs": [],
   "source": []
  },
  {
   "cell_type": "code",
   "execution_count": 21,
   "metadata": {},
   "outputs": [
    {
     "data": {
      "text/plain": [
       "1.1888039188310753"
      ]
     },
     "execution_count": 21,
     "metadata": {},
     "output_type": "execute_result"
    }
   ],
   "source": [
    "#old\n",
    "0.00012337757427135495/0.0001037829471429312"
   ]
  },
  {
   "cell_type": "code",
   "execution_count": 20,
   "metadata": {},
   "outputs": [
    {
     "data": {
      "text/plain": [
       "1.0611917708215914"
      ]
     },
     "execution_count": 20,
     "metadata": {},
     "output_type": "execute_result"
    }
   ],
   "source": [
    "0.00014373036288282075/0.0001354424024335794"
   ]
  },
  {
   "cell_type": "code",
   "execution_count": 22,
   "metadata": {},
   "outputs": [
    {
     "data": {
      "text/plain": [
       "1.0629719979232546"
      ]
     },
     "execution_count": 22,
     "metadata": {},
     "output_type": "execute_result"
    }
   ],
   "source": [
    "0.00014397148111834737/0.0001354424024335794"
   ]
  },
  {
   "cell_type": "markdown",
   "metadata": {},
   "source": [
    "The winning network used 1000 epochs. \n",
    "- The best 500 epoch network had an MSE 6.297% higher.\n",
    "- The next best network overall had an MSE 6.119% higher (1000 epochs)"
   ]
  },
  {
   "cell_type": "code",
   "execution_count": null,
   "metadata": {
    "collapsed": true
   },
   "outputs": [],
   "source": []
  },
  {
   "cell_type": "code",
   "execution_count": null,
   "metadata": {
    "collapsed": true
   },
   "outputs": [],
   "source": []
  },
  {
   "cell_type": "code",
   "execution_count": null,
   "metadata": {
    "collapsed": true
   },
   "outputs": [],
   "source": []
  },
  {
   "cell_type": "code",
   "execution_count": null,
   "metadata": {
    "collapsed": true
   },
   "outputs": [],
   "source": []
  },
  {
   "cell_type": "code",
   "execution_count": null,
   "metadata": {
    "collapsed": true
   },
   "outputs": [],
   "source": []
  },
  {
   "cell_type": "code",
   "execution_count": null,
   "metadata": {
    "collapsed": true
   },
   "outputs": [],
   "source": []
  },
  {
   "cell_type": "markdown",
   "metadata": {},
   "source": [
    "# Decreasing Size, Normalized Data"
   ]
  },
  {
   "cell_type": "code",
   "execution_count": 23,
   "metadata": {
    "collapsed": true
   },
   "outputs": [],
   "source": [
    "dec_output_text = open(decreaseMLP,'r')\n",
    "read_output_text = dec_output_text.read()\n",
    "dec_output_text.close()"
   ]
  },
  {
   "cell_type": "code",
   "execution_count": 24,
   "metadata": {},
   "outputs": [
    {
     "name": "stdout",
     "output_type": "stream",
     "text": [
      "989295\n",
      "37\n"
     ]
    }
   ],
   "source": [
    "print(len(read_output_text))\n",
    "rezsplit_b = read_output_text.split(\"\\n\")\n",
    "print(len(rezsplit_b))"
   ]
  },
  {
   "cell_type": "code",
   "execution_count": 25,
   "metadata": {},
   "outputs": [
    {
     "name": "stdout",
     "output_type": "stream",
     "text": [
      "''\n",
      "36\n"
     ]
    }
   ],
   "source": [
    "# Last time is just an empty new line. We remove it\n",
    "print(rezsplit_b[36].__repr__())\n",
    "rezsplit_b.remove('')\n",
    "print(len(rezsplit_b))"
   ]
  },
  {
   "cell_type": "code",
   "execution_count": 26,
   "metadata": {},
   "outputs": [
    {
     "name": "stdout",
     "output_type": "stream",
     "text": [
      "36\n"
     ]
    }
   ],
   "source": [
    "dec_result_dict_list = [eval(rez) for rez in rezsplit_b]\n",
    "print(len(dec_result_dict_list))"
   ]
  },
  {
   "cell_type": "code",
   "execution_count": 27,
   "metadata": {},
   "outputs": [
    {
     "name": "stdout",
     "output_type": "stream",
     "text": [
      "dict_keys(['epochs', 'config', 'result'])\n",
      "{'layers': 1, 'layer': {1: 32}}\n",
      "0.0001889552990502521\n",
      "0.00019599481484055113\n"
     ]
    }
   ],
   "source": [
    "print(dec_result_dict_list[0].keys())\n",
    "print(dec_result_dict_list[0][\"config\"])\n",
    "print(min(dec_result_dict_list[0][\"result\"][\"loss\"]))\n",
    "print(dec_result_dict_list[0][\"result\"][\"loss\"][-1])"
   ]
  },
  {
   "cell_type": "markdown",
   "metadata": {},
   "source": [
    "Since overtraiing can be an issue, it's better to get the last MSE loss value, instead of the minimum MSE loss value, per networl trained. This last value represents the minimized loss after all epochs, and thus, is subject to overfitting. The winner of all the trained networks would have exhibited the least overfitting (forces MSE up) but also have the lowest score."
   ]
  },
  {
   "cell_type": "code",
   "execution_count": 28,
   "metadata": {},
   "outputs": [
    {
     "name": "stdout",
     "output_type": "stream",
     "text": [
      "{'epochs': 250, 'config': {'layers': 1, 'layer': {1: 32}}, 'last_loss': 0.00019599481484055113}\n"
     ]
    }
   ],
   "source": [
    "dec_MSE_loss_results = [{\"epochs\": item['epochs'],\n",
    "                    \"config\":item[\"config\"],\n",
    "                    \"last_loss\": item[\"result\"][\"loss\"][-1]} for item in dec_result_dict_list]\n",
    "print(dec_MSE_loss_results[0])"
   ]
  },
  {
   "cell_type": "code",
   "execution_count": 29,
   "metadata": {},
   "outputs": [
    {
     "name": "stdout",
     "output_type": "stream",
     "text": [
      "36\n",
      "0.00014170785411491546\n"
     ]
    },
    {
     "data": {
      "text/plain": [
       "[0.00019599481484055113,\n",
       " 0.00019372542065617448,\n",
       " 0.00020687423349456498,\n",
       " 0.00021023944865723168,\n",
       " 0.00017990735303779616]"
      ]
     },
     "execution_count": 29,
     "metadata": {},
     "output_type": "execute_result"
    }
   ],
   "source": [
    "ALL_dec_last_loss = [d[\"last_loss\"] for d in dec_MSE_loss_results]\n",
    "print(len(ALL_dec_last_loss))\n",
    "print(min(ALL_dec_last_loss))\n",
    "ALL_dec_last_loss[:5]"
   ]
  },
  {
   "cell_type": "code",
   "execution_count": 30,
   "metadata": {},
   "outputs": [
    {
     "data": {
      "text/plain": [
       "[0.00014170785411491546,\n",
       " 0.0001446379672043585,\n",
       " 0.0001453293824861158,\n",
       " 0.0001500321141726156,\n",
       " 0.00015136461343140596,\n",
       " 0.00015831690950825558,\n",
       " 0.00015963765814352516,\n",
       " 0.00016071098382994318,\n",
       " 0.00016386865501514123,\n",
       " 0.00016402309331481989]"
      ]
     },
     "execution_count": 30,
     "metadata": {},
     "output_type": "execute_result"
    }
   ],
   "source": [
    "sorted_declosses = ALL_dec_last_loss.copy()\n",
    "sorted_declosses.sort()\n",
    "sorted_declosses[:10]"
   ]
  },
  {
   "cell_type": "markdown",
   "metadata": {},
   "source": [
    "Above, we have the 10 lowest MSE losses amongst the __36__ trained networks.  \n",
    "What we will do now, if go back and find the epochs used to train these networks, and their associated architecture."
   ]
  },
  {
   "cell_type": "code",
   "execution_count": 32,
   "metadata": {},
   "outputs": [
    {
     "data": {
      "text/plain": [
       "[{'epochs': 500,\n",
       "  'config': {'layers': 3, 'layer': {1: 64, 2: 48, 3: 36}},\n",
       "  'last_loss': 0.00016386865501514123},\n",
       " {'epochs': 500,\n",
       "  'config': {'layers': 3, 'layer': {1: 128, 2: 96, 3: 72}},\n",
       "  'last_loss': 0.0001453293824861158},\n",
       " {'epochs': 500,\n",
       "  'config': {'layers': 4, 'layer': {1: 32, 2: 24, 3: 18, 4: 13}},\n",
       "  'last_loss': 0.00015831690950825558},\n",
       " {'epochs': 1000,\n",
       "  'config': {'layers': 1, 'layer': {1: 32}},\n",
       "  'last_loss': 0.00016402309331481989},\n",
       " {'epochs': 1000,\n",
       "  'config': {'layers': 1, 'layer': {1: 64}},\n",
       "  'last_loss': 0.00015963765814352516},\n",
       " {'epochs': 1000,\n",
       "  'config': {'layers': 2, 'layer': {1: 128, 2: 96}},\n",
       "  'last_loss': 0.00015136461343140596},\n",
       " {'epochs': 1000,\n",
       "  'config': {'layers': 3, 'layer': {1: 64, 2: 48, 3: 36}},\n",
       "  'last_loss': 0.00014170785411491546},\n",
       " {'epochs': 1000,\n",
       "  'config': {'layers': 4, 'layer': {1: 32, 2: 24, 3: 18, 4: 13}},\n",
       "  'last_loss': 0.00016071098382994318},\n",
       " {'epochs': 1000,\n",
       "  'config': {'layers': 4, 'layer': {1: 64, 2: 48, 3: 36, 4: 27}},\n",
       "  'last_loss': 0.0001500321141726156},\n",
       " {'epochs': 1000,\n",
       "  'config': {'layers': 4, 'layer': {1: 128, 2: 96, 3: 72, 4: 54}},\n",
       "  'last_loss': 0.0001446379672043585}]"
      ]
     },
     "execution_count": 32,
     "metadata": {},
     "output_type": "execute_result"
    }
   ],
   "source": [
    "dec_top_ten_losses = sorted_declosses[:10]\n",
    "dec_top_ten_networks = [ntwk for ntwk in dec_MSE_loss_results if ntwk[\"last_loss\"] in dec_top_ten_losses]\n",
    "dec_top_ten_networks"
   ]
  },
  {
   "cell_type": "markdown",
   "metadata": {},
   "source": [
    "### (OLD) Winner, decreasing only, normalized data\n",
    "`{'epochs': 2500,\n",
    "  'config': {'layers': 4, 'layer': {1: 64, 2: 48, 3: 48, 4: 48}}`"
   ]
  },
  {
   "cell_type": "markdown",
   "metadata": {},
   "source": [
    "### Winner, decreasing only, normalized data\n",
    "`{'epochs': 1000,\n",
    "  'config': {'layers': 3, 'layer': {1: 64, 2: 48, 3: 36}},\n",
    "  'last_loss': 0.00014170785411491546}`\n",
    "  \n",
    "runner up  \n",
    "`{'epochs': 1000,\n",
    "  'config': {'layers': 4, 'layer': {1: 128, 2: 96, 3: 72, 4: 54}},\n",
    "  'last_loss': 0.0001446379672043585}`\n",
    "\n",
    "third place  \n",
    "`{'epochs': 500,\n",
    "  'config': {'layers': 3, 'layer': {1: 128, 2: 96, 3: 72}},\n",
    "  'last_loss': 0.0001453293824861158}`"
   ]
  },
  {
   "cell_type": "code",
   "execution_count": null,
   "metadata": {
    "collapsed": true
   },
   "outputs": [],
   "source": []
  },
  {
   "cell_type": "code",
   "execution_count": null,
   "metadata": {
    "collapsed": true
   },
   "outputs": [],
   "source": []
  },
  {
   "cell_type": "code",
   "execution_count": null,
   "metadata": {
    "collapsed": true
   },
   "outputs": [],
   "source": []
  },
  {
   "cell_type": "code",
   "execution_count": null,
   "metadata": {
    "collapsed": true
   },
   "outputs": [],
   "source": []
  },
  {
   "cell_type": "markdown",
   "metadata": {},
   "source": [
    "# Increasing Size, Normalized Data"
   ]
  },
  {
   "cell_type": "code",
   "execution_count": 34,
   "metadata": {
    "collapsed": true
   },
   "outputs": [],
   "source": [
    "inc_output_text = open(increaseMLP,'r')\n",
    "read_output_text = inc_output_text.read()\n",
    "inc_output_text.close()"
   ]
  },
  {
   "cell_type": "code",
   "execution_count": 35,
   "metadata": {},
   "outputs": [
    {
     "name": "stdout",
     "output_type": "stream",
     "text": [
      "989551\n",
      "37\n"
     ]
    }
   ],
   "source": [
    "print(len(read_output_text))\n",
    "rezsplit_b = read_output_text.split(\"\\n\")\n",
    "print(len(rezsplit_b))"
   ]
  },
  {
   "cell_type": "code",
   "execution_count": 36,
   "metadata": {},
   "outputs": [
    {
     "name": "stdout",
     "output_type": "stream",
     "text": [
      "''\n",
      "36\n"
     ]
    }
   ],
   "source": [
    "# Last time is just an empty new line. We remove it\n",
    "print(rezsplit_b[36].__repr__())\n",
    "rezsplit_b.remove('')\n",
    "print(len(rezsplit_b))"
   ]
  },
  {
   "cell_type": "code",
   "execution_count": 37,
   "metadata": {},
   "outputs": [
    {
     "name": "stdout",
     "output_type": "stream",
     "text": [
      "36\n"
     ]
    }
   ],
   "source": [
    "inc_result_dict_list = [eval(rez) for rez in rezsplit_b]\n",
    "print(len(inc_result_dict_list))"
   ]
  },
  {
   "cell_type": "code",
   "execution_count": 40,
   "metadata": {},
   "outputs": [
    {
     "name": "stdout",
     "output_type": "stream",
     "text": [
      "dict_keys(['epochs', 'config', 'result'])\n",
      "{'layers': 1, 'layer': {1: 32}}\n",
      "0.0001851988639071639\n",
      "0.00020339362779148108\n"
     ]
    }
   ],
   "source": [
    "print(inc_result_dict_list[0].keys())\n",
    "print(inc_result_dict_list[0][\"config\"])\n",
    "print(min(inc_result_dict_list[0][\"result\"][\"loss\"]))\n",
    "print(inc_result_dict_list[0][\"result\"][\"loss\"][-1])"
   ]
  },
  {
   "cell_type": "markdown",
   "metadata": {},
   "source": [
    "Since overtraiing can be an issue, it's better to get the last MSE loss value, instead of the minimum MSE loss value, per networl trained. This last value represents the minimized loss after all epochs, and thus, is subject to overfitting. The winner of all the trained networks would have exhibited the least overfitting (forces MSE up) but also have the lowest score."
   ]
  },
  {
   "cell_type": "code",
   "execution_count": 41,
   "metadata": {},
   "outputs": [
    {
     "name": "stdout",
     "output_type": "stream",
     "text": [
      "{'epochs': 250, 'config': {'layers': 1, 'layer': {1: 32}}, 'last_loss': 0.00020339362779148108}\n"
     ]
    }
   ],
   "source": [
    "inc_MSE_loss_results = [{\"epochs\": item['epochs'],\n",
    "                    \"config\":item[\"config\"],\n",
    "                    \"last_loss\": item[\"result\"][\"loss\"][-1]} for item in inc_result_dict_list]\n",
    "print(inc_MSE_loss_results[0])"
   ]
  },
  {
   "cell_type": "code",
   "execution_count": 42,
   "metadata": {},
   "outputs": [
    {
     "name": "stdout",
     "output_type": "stream",
     "text": [
      "36\n",
      "0.00013302507601236916\n"
     ]
    },
    {
     "data": {
      "text/plain": [
       "[0.00020339362779148108,\n",
       " 0.0001915324802653366,\n",
       " 0.00018771469359929295,\n",
       " 0.0002014458056719107,\n",
       " 0.0001930927582278774]"
      ]
     },
     "execution_count": 42,
     "metadata": {},
     "output_type": "execute_result"
    }
   ],
   "source": [
    "ALL_inc_last_loss = [d[\"last_loss\"] for d in inc_MSE_loss_results]\n",
    "print(len(ALL_inc_last_loss))\n",
    "print(min(ALL_inc_last_loss))\n",
    "ALL_inc_last_loss[:5]"
   ]
  },
  {
   "cell_type": "code",
   "execution_count": 43,
   "metadata": {},
   "outputs": [
    {
     "data": {
      "text/plain": [
       "[0.00013302507601236916,\n",
       " 0.0001337122449564145,\n",
       " 0.00013957328457775658,\n",
       " 0.00014199366323917293,\n",
       " 0.00014273140720850956,\n",
       " 0.00014613495675040863,\n",
       " 0.00014732041913538053,\n",
       " 0.000151243927698773,\n",
       " 0.0001517431779761519,\n",
       " 0.00015306539593463097]"
      ]
     },
     "execution_count": 43,
     "metadata": {},
     "output_type": "execute_result"
    }
   ],
   "source": [
    "sorted_inclosses = ALL_inc_last_loss.copy()\n",
    "sorted_inclosses.sort()\n",
    "sorted_inclosses[:10]"
   ]
  },
  {
   "cell_type": "markdown",
   "metadata": {},
   "source": [
    "Above, we have the 10 lowest MSE losses amongst the __36__ trained networks.  \n",
    "What we will do now, if go back and find the epochs used to train these networks, and their associated architecture."
   ]
  },
  {
   "cell_type": "code",
   "execution_count": 44,
   "metadata": {},
   "outputs": [
    {
     "data": {
      "text/plain": [
       "[{'epochs': 500,\n",
       "  'config': {'layers': 4, 'layer': {1: 32, 2: 40, 3: 50, 4: 62}},\n",
       "  'last_loss': 0.000151243927698773},\n",
       " {'epochs': 500,\n",
       "  'config': {'layers': 4, 'layer': {1: 64, 2: 80, 3: 100, 4: 125}},\n",
       "  'last_loss': 0.0001517431779761519},\n",
       " {'epochs': 1000,\n",
       "  'config': {'layers': 2, 'layer': {1: 64, 2: 80}},\n",
       "  'last_loss': 0.00013957328457775658},\n",
       " {'epochs': 1000,\n",
       "  'config': {'layers': 2, 'layer': {1: 128, 2: 160}},\n",
       "  'last_loss': 0.00014732041913538053},\n",
       " {'epochs': 1000,\n",
       "  'config': {'layers': 3, 'layer': {1: 32, 2: 40, 3: 50}},\n",
       "  'last_loss': 0.00014613495675040863},\n",
       " {'epochs': 1000,\n",
       "  'config': {'layers': 3, 'layer': {1: 64, 2: 80, 3: 100}},\n",
       "  'last_loss': 0.0001337122449564145},\n",
       " {'epochs': 1000,\n",
       "  'config': {'layers': 3, 'layer': {1: 128, 2: 160, 3: 200}},\n",
       "  'last_loss': 0.00015306539593463097},\n",
       " {'epochs': 1000,\n",
       "  'config': {'layers': 4, 'layer': {1: 32, 2: 40, 3: 50, 4: 62}},\n",
       "  'last_loss': 0.00014273140720850956},\n",
       " {'epochs': 1000,\n",
       "  'config': {'layers': 4, 'layer': {1: 64, 2: 80, 3: 100, 4: 125}},\n",
       "  'last_loss': 0.00014199366323917293},\n",
       " {'epochs': 1000,\n",
       "  'config': {'layers': 4, 'layer': {1: 128, 2: 160, 3: 200, 4: 250}},\n",
       "  'last_loss': 0.00013302507601236916}]"
      ]
     },
     "execution_count": 44,
     "metadata": {},
     "output_type": "execute_result"
    }
   ],
   "source": [
    "inc_top_ten_losses = sorted_inclosses[:10]\n",
    "inc_top_ten_networks = [ntwk for ntwk in inc_MSE_loss_results if ntwk[\"last_loss\"] in inc_top_ten_losses]\n",
    "inc_top_ten_networks"
   ]
  },
  {
   "cell_type": "code",
   "execution_count": null,
   "metadata": {
    "collapsed": true
   },
   "outputs": [],
   "source": []
  },
  {
   "cell_type": "code",
   "execution_count": null,
   "metadata": {
    "collapsed": true
   },
   "outputs": [],
   "source": []
  },
  {
   "cell_type": "code",
   "execution_count": null,
   "metadata": {
    "collapsed": true
   },
   "outputs": [],
   "source": []
  },
  {
   "cell_type": "code",
   "execution_count": null,
   "metadata": {
    "collapsed": true
   },
   "outputs": [],
   "source": []
  },
  {
   "cell_type": "code",
   "execution_count": null,
   "metadata": {
    "collapsed": true
   },
   "outputs": [],
   "source": []
  },
  {
   "cell_type": "markdown",
   "metadata": {
    "collapsed": true
   },
   "source": [
    "# Static Size, Normalized Data"
   ]
  },
  {
   "cell_type": "code",
   "execution_count": 47,
   "metadata": {
    "collapsed": true
   },
   "outputs": [],
   "source": [
    "fix_output_text = open(staticMLP,'r')\n",
    "read_output_text = fix_output_text.read()\n",
    "fix_output_text.close()"
   ]
  },
  {
   "cell_type": "code",
   "execution_count": 48,
   "metadata": {},
   "outputs": [
    {
     "name": "stdout",
     "output_type": "stream",
     "text": [
      "989219\n",
      "37\n"
     ]
    }
   ],
   "source": [
    "print(len(read_output_text))\n",
    "rezsplit_b = read_output_text.split(\"\\n\")\n",
    "print(len(rezsplit_b))"
   ]
  },
  {
   "cell_type": "code",
   "execution_count": 49,
   "metadata": {},
   "outputs": [
    {
     "name": "stdout",
     "output_type": "stream",
     "text": [
      "''\n",
      "36\n"
     ]
    }
   ],
   "source": [
    "# Last time is just an empty new line. We remove it\n",
    "print(rezsplit_b[36].__repr__())\n",
    "rezsplit_b.remove('')\n",
    "print(len(rezsplit_b))"
   ]
  },
  {
   "cell_type": "code",
   "execution_count": 50,
   "metadata": {},
   "outputs": [
    {
     "name": "stdout",
     "output_type": "stream",
     "text": [
      "36\n"
     ]
    }
   ],
   "source": [
    "fix_result_dict_list = [eval(rez) for rez in rezsplit_b]\n",
    "print(len(fix_result_dict_list))"
   ]
  },
  {
   "cell_type": "code",
   "execution_count": 51,
   "metadata": {},
   "outputs": [
    {
     "name": "stdout",
     "output_type": "stream",
     "text": [
      "dict_keys(['epochs', 'config', 'result'])\n",
      "{'layers': 1, 'layer': {1: 32}}\n",
      "0.00018686378819801885\n",
      "0.00020834982382493222\n"
     ]
    }
   ],
   "source": [
    "print(fix_result_dict_list[0].keys())\n",
    "print(fix_result_dict_list[0][\"config\"])\n",
    "print(min(fix_result_dict_list[0][\"result\"][\"loss\"]))\n",
    "print(fix_result_dict_list[0][\"result\"][\"loss\"][-1])"
   ]
  },
  {
   "cell_type": "markdown",
   "metadata": {},
   "source": [
    "Since overtraiing can be an issue, it's better to get the last MSE loss value, instead of the minimum MSE loss value, per networl trained. This last value represents the minimized loss after all epochs, and thus, is subject to overfitting. The winner of all the trained networks would have exhibited the least overfitting (forces MSE up) but also have the lowest score."
   ]
  },
  {
   "cell_type": "code",
   "execution_count": 52,
   "metadata": {},
   "outputs": [
    {
     "name": "stdout",
     "output_type": "stream",
     "text": [
      "{'epochs': 250, 'config': {'layers': 1, 'layer': {1: 32}}, 'last_loss': 0.00020834982382493222}\n"
     ]
    }
   ],
   "source": [
    "fix_MSE_loss_results = [{\"epochs\": item['epochs'],\n",
    "                    \"config\":item[\"config\"],\n",
    "                    \"last_loss\": item[\"result\"][\"loss\"][-1]} for item in fix_result_dict_list]\n",
    "print(fix_MSE_loss_results[0])"
   ]
  },
  {
   "cell_type": "code",
   "execution_count": 53,
   "metadata": {},
   "outputs": [
    {
     "name": "stdout",
     "output_type": "stream",
     "text": [
      "36\n",
      "0.00013208114798526547\n"
     ]
    },
    {
     "data": {
      "text/plain": [
       "[0.00020834982382493222,\n",
       " 0.00020161756015038456,\n",
       " 0.00019288259567408562,\n",
       " 0.00019946300622310933,\n",
       " 0.00018860418520477468]"
      ]
     },
     "execution_count": 53,
     "metadata": {},
     "output_type": "execute_result"
    }
   ],
   "source": [
    "ALL_fix_last_loss = [d[\"last_loss\"] for d in fix_MSE_loss_results]\n",
    "print(len(ALL_fix_last_loss))\n",
    "print(min(ALL_fix_last_loss))\n",
    "ALL_fix_last_loss[:5]"
   ]
  },
  {
   "cell_type": "code",
   "execution_count": 54,
   "metadata": {},
   "outputs": [
    {
     "data": {
      "text/plain": [
       "[0.00013208114798526547,\n",
       " 0.0001338472487890967,\n",
       " 0.00013810502170101375,\n",
       " 0.0001401019461488308,\n",
       " 0.00014958753438417495,\n",
       " 0.0001532250480582667,\n",
       " 0.00015711002483104875,\n",
       " 0.00015932932335087298,\n",
       " 0.00016036911959961216,\n",
       " 0.000160697456095798]"
      ]
     },
     "execution_count": 54,
     "metadata": {},
     "output_type": "execute_result"
    }
   ],
   "source": [
    "sorted_fixlosses = ALL_fix_last_loss.copy()\n",
    "sorted_fixlosses.sort()\n",
    "sorted_fixlosses[:10]"
   ]
  },
  {
   "cell_type": "markdown",
   "metadata": {},
   "source": [
    "Above, we have the 10 lowest MSE losses amongst the __36__ trained networks.  \n",
    "What we will do now, if go back and find the epochs used to train these networks, and their associated architecture."
   ]
  },
  {
   "cell_type": "code",
   "execution_count": 55,
   "metadata": {},
   "outputs": [
    {
     "data": {
      "text/plain": [
       "[{'epochs': 250,\n",
       "  'config': {'layers': 3, 'layer': {1: 64, 2: 64, 3: 64}},\n",
       "  'last_loss': 0.00015932932335087298},\n",
       " {'epochs': 500,\n",
       "  'config': {'layers': 2, 'layer': {1: 128, 2: 128}},\n",
       "  'last_loss': 0.0001532250480582667},\n",
       " {'epochs': 500,\n",
       "  'config': {'layers': 4, 'layer': {1: 64, 2: 64, 3: 64, 4: 64}},\n",
       "  'last_loss': 0.000160697456095798},\n",
       " {'epochs': 1000,\n",
       "  'config': {'layers': 1, 'layer': {1: 128}},\n",
       "  'last_loss': 0.00016036911959961216},\n",
       " {'epochs': 1000,\n",
       "  'config': {'layers': 2, 'layer': {1: 32, 2: 32}},\n",
       "  'last_loss': 0.00015711002483104875},\n",
       " {'epochs': 1000,\n",
       "  'config': {'layers': 2, 'layer': {1: 64, 2: 64}},\n",
       "  'last_loss': 0.00014958753438417495},\n",
       " {'epochs': 1000,\n",
       "  'config': {'layers': 3, 'layer': {1: 32, 2: 32, 3: 32}},\n",
       "  'last_loss': 0.0001401019461488308},\n",
       " {'epochs': 1000,\n",
       "  'config': {'layers': 3, 'layer': {1: 64, 2: 64, 3: 64}},\n",
       "  'last_loss': 0.00013208114798526547},\n",
       " {'epochs': 1000,\n",
       "  'config': {'layers': 3, 'layer': {1: 128, 2: 128, 3: 128}},\n",
       "  'last_loss': 0.00013810502170101375},\n",
       " {'epochs': 1000,\n",
       "  'config': {'layers': 4, 'layer': {1: 128, 2: 128, 3: 128, 4: 128}},\n",
       "  'last_loss': 0.0001338472487890967}]"
      ]
     },
     "execution_count": 55,
     "metadata": {},
     "output_type": "execute_result"
    }
   ],
   "source": [
    "fix_top_ten_losses = sorted_fixlosses[:10]\n",
    "fix_top_ten_networks = [ntwk for ntwk in fix_MSE_loss_results if ntwk[\"last_loss\"] in fix_top_ten_losses]\n",
    "fix_top_ten_networks"
   ]
  },
  {
   "cell_type": "code",
   "execution_count": null,
   "metadata": {
    "collapsed": true
   },
   "outputs": [],
   "source": []
  },
  {
   "cell_type": "markdown",
   "metadata": {
    "collapsed": true
   },
   "source": [
    "# ALL"
   ]
  },
  {
   "cell_type": "code",
   "execution_count": 59,
   "metadata": {},
   "outputs": [
    {
     "data": {
      "text/plain": [
       "[{'epochs': 500,\n",
       "  'config': {'layers': 2, 'layer': {1: 128, 2: 96}},\n",
       "  'last_loss': 0.0001563710935118765},\n",
       " {'epochs': 500,\n",
       "  'config': {'layers': 3, 'layer': {1: 64, 2: 48, 3: 36}},\n",
       "  'last_loss': 0.00015185584267390055},\n",
       " {'epochs': 500,\n",
       "  'config': {'layers': 4, 'layer': {1: 128, 2: 96, 3: 72, 4: 90}},\n",
       "  'last_loss': 0.00014397148111834737},\n",
       " {'epochs': 1000,\n",
       "  'config': {'layers': 2, 'layer': {1: 32, 2: 40}},\n",
       "  'last_loss': 0.00015372951181141334},\n",
       " {'epochs': 1000,\n",
       "  'config': {'layers': 2, 'layer': {1: 64, 2: 80}},\n",
       "  'last_loss': 0.00016117272400043646},\n",
       " {'epochs': 1000,\n",
       "  'config': {'layers': 2, 'layer': {1: 128, 2: 96}},\n",
       "  'last_loss': 0.0001522503757123949},\n",
       " {'epochs': 1000,\n",
       "  'config': {'layers': 3, 'layer': {1: 32, 2: 40, 3: 50}},\n",
       "  'last_loss': 0.00014373036288282075},\n",
       " {'epochs': 1000,\n",
       "  'config': {'layers': 3, 'layer': {1: 64, 2: 48, 3: 60}},\n",
       "  'last_loss': 0.00014799091524656603},\n",
       " {'epochs': 1000,\n",
       "  'config': {'layers': 3, 'layer': {1: 128, 2: 96, 3: 72}},\n",
       "  'last_loss': 0.00015762507575087668},\n",
       " {'epochs': 1000,\n",
       "  'config': {'layers': 4, 'layer': {1: 64, 2: 80, 3: 60, 4: 45}},\n",
       "  'last_loss': 0.0001354424024335794}]"
      ]
     },
     "execution_count": 59,
     "metadata": {},
     "output_type": "execute_result"
    }
   ],
   "source": [
    "top_ten_networks"
   ]
  },
  {
   "cell_type": "code",
   "execution_count": 60,
   "metadata": {},
   "outputs": [
    {
     "data": {
      "text/plain": [
       "[{'epochs': 500,\n",
       "  'config': {'layers': 4, 'layer': {1: 32, 2: 40, 3: 50, 4: 62}},\n",
       "  'last_loss': 0.000151243927698773},\n",
       " {'epochs': 500,\n",
       "  'config': {'layers': 4, 'layer': {1: 64, 2: 80, 3: 100, 4: 125}},\n",
       "  'last_loss': 0.0001517431779761519},\n",
       " {'epochs': 1000,\n",
       "  'config': {'layers': 2, 'layer': {1: 64, 2: 80}},\n",
       "  'last_loss': 0.00013957328457775658},\n",
       " {'epochs': 1000,\n",
       "  'config': {'layers': 2, 'layer': {1: 128, 2: 160}},\n",
       "  'last_loss': 0.00014732041913538053},\n",
       " {'epochs': 1000,\n",
       "  'config': {'layers': 3, 'layer': {1: 32, 2: 40, 3: 50}},\n",
       "  'last_loss': 0.00014613495675040863},\n",
       " {'epochs': 1000,\n",
       "  'config': {'layers': 3, 'layer': {1: 64, 2: 80, 3: 100}},\n",
       "  'last_loss': 0.0001337122449564145},\n",
       " {'epochs': 1000,\n",
       "  'config': {'layers': 3, 'layer': {1: 128, 2: 160, 3: 200}},\n",
       "  'last_loss': 0.00015306539593463097},\n",
       " {'epochs': 1000,\n",
       "  'config': {'layers': 4, 'layer': {1: 32, 2: 40, 3: 50, 4: 62}},\n",
       "  'last_loss': 0.00014273140720850956},\n",
       " {'epochs': 1000,\n",
       "  'config': {'layers': 4, 'layer': {1: 64, 2: 80, 3: 100, 4: 125}},\n",
       "  'last_loss': 0.00014199366323917293},\n",
       " {'epochs': 1000,\n",
       "  'config': {'layers': 4, 'layer': {1: 128, 2: 160, 3: 200, 4: 250}},\n",
       "  'last_loss': 0.00013302507601236916}]"
      ]
     },
     "execution_count": 60,
     "metadata": {},
     "output_type": "execute_result"
    }
   ],
   "source": [
    "inc_top_ten_networks"
   ]
  },
  {
   "cell_type": "code",
   "execution_count": 61,
   "metadata": {},
   "outputs": [
    {
     "data": {
      "text/plain": [
       "[{'epochs': 500,\n",
       "  'config': {'layers': 3, 'layer': {1: 64, 2: 48, 3: 36}},\n",
       "  'last_loss': 0.00016386865501514123},\n",
       " {'epochs': 500,\n",
       "  'config': {'layers': 3, 'layer': {1: 128, 2: 96, 3: 72}},\n",
       "  'last_loss': 0.0001453293824861158},\n",
       " {'epochs': 500,\n",
       "  'config': {'layers': 4, 'layer': {1: 32, 2: 24, 3: 18, 4: 13}},\n",
       "  'last_loss': 0.00015831690950825558},\n",
       " {'epochs': 1000,\n",
       "  'config': {'layers': 1, 'layer': {1: 32}},\n",
       "  'last_loss': 0.00016402309331481989},\n",
       " {'epochs': 1000,\n",
       "  'config': {'layers': 1, 'layer': {1: 64}},\n",
       "  'last_loss': 0.00015963765814352516},\n",
       " {'epochs': 1000,\n",
       "  'config': {'layers': 2, 'layer': {1: 128, 2: 96}},\n",
       "  'last_loss': 0.00015136461343140596},\n",
       " {'epochs': 1000,\n",
       "  'config': {'layers': 3, 'layer': {1: 64, 2: 48, 3: 36}},\n",
       "  'last_loss': 0.00014170785411491546},\n",
       " {'epochs': 1000,\n",
       "  'config': {'layers': 4, 'layer': {1: 32, 2: 24, 3: 18, 4: 13}},\n",
       "  'last_loss': 0.00016071098382994318},\n",
       " {'epochs': 1000,\n",
       "  'config': {'layers': 4, 'layer': {1: 64, 2: 48, 3: 36, 4: 27}},\n",
       "  'last_loss': 0.0001500321141726156},\n",
       " {'epochs': 1000,\n",
       "  'config': {'layers': 4, 'layer': {1: 128, 2: 96, 3: 72, 4: 54}},\n",
       "  'last_loss': 0.0001446379672043585}]"
      ]
     },
     "execution_count": 61,
     "metadata": {},
     "output_type": "execute_result"
    }
   ],
   "source": [
    "dec_top_ten_networks"
   ]
  },
  {
   "cell_type": "code",
   "execution_count": 62,
   "metadata": {},
   "outputs": [
    {
     "data": {
      "text/plain": [
       "[{'epochs': 250,\n",
       "  'config': {'layers': 3, 'layer': {1: 64, 2: 64, 3: 64}},\n",
       "  'last_loss': 0.00015932932335087298},\n",
       " {'epochs': 500,\n",
       "  'config': {'layers': 2, 'layer': {1: 128, 2: 128}},\n",
       "  'last_loss': 0.0001532250480582667},\n",
       " {'epochs': 500,\n",
       "  'config': {'layers': 4, 'layer': {1: 64, 2: 64, 3: 64, 4: 64}},\n",
       "  'last_loss': 0.000160697456095798},\n",
       " {'epochs': 1000,\n",
       "  'config': {'layers': 1, 'layer': {1: 128}},\n",
       "  'last_loss': 0.00016036911959961216},\n",
       " {'epochs': 1000,\n",
       "  'config': {'layers': 2, 'layer': {1: 32, 2: 32}},\n",
       "  'last_loss': 0.00015711002483104875},\n",
       " {'epochs': 1000,\n",
       "  'config': {'layers': 2, 'layer': {1: 64, 2: 64}},\n",
       "  'last_loss': 0.00014958753438417495},\n",
       " {'epochs': 1000,\n",
       "  'config': {'layers': 3, 'layer': {1: 32, 2: 32, 3: 32}},\n",
       "  'last_loss': 0.0001401019461488308},\n",
       " {'epochs': 1000,\n",
       "  'config': {'layers': 3, 'layer': {1: 64, 2: 64, 3: 64}},\n",
       "  'last_loss': 0.00013208114798526547},\n",
       " {'epochs': 1000,\n",
       "  'config': {'layers': 3, 'layer': {1: 128, 2: 128, 3: 128}},\n",
       "  'last_loss': 0.00013810502170101375},\n",
       " {'epochs': 1000,\n",
       "  'config': {'layers': 4, 'layer': {1: 128, 2: 128, 3: 128, 4: 128}},\n",
       "  'last_loss': 0.0001338472487890967}]"
      ]
     },
     "execution_count": 62,
     "metadata": {},
     "output_type": "execute_result"
    }
   ],
   "source": [
    "fix_top_ten_networks"
   ]
  },
  {
   "cell_type": "markdown",
   "metadata": {
    "collapsed": true
   },
   "source": [
    "Top 5 per search type\n",
    "- Varying\n",
    "`\n",
    " {'epochs': 500,\n",
    "  'config': {'layers': 3, 'layer': {1: 64, 2: 48, 3: 36}},\n",
    "  'last_loss': 0.00015185584267390055},\n",
    " {'epochs': 500,\n",
    "  'config': {'layers': 4, 'layer': {1: 128, 2: 96, 3: 72, 4: 90}},\n",
    "  'last_loss': 0.00014397148111834737},\n",
    " {'epochs': 1000,\n",
    "  'config': {'layers': 3, 'layer': {1: 32, 2: 40, 3: 50}},\n",
    "  'last_loss': 0.00014373036288282075},\n",
    " {'epochs': 1000,\n",
    "  'config': {'layers': 3, 'layer': {1: 64, 2: 48, 3: 60}},\n",
    "  'last_loss': 0.00014799091524656603},\n",
    " {'epochs': 1000,\n",
    "  'config': {'layers': 4, 'layer': {1: 64, 2: 80, 3: 60, 4: 45}},\n",
    "  'last_loss': 0.0001354424024335794}`\n",
    "- Increasing\n",
    "`\n",
    " {'epochs': 1000,\n",
    "  'config': {'layers': 2, 'layer': {1: 64, 2: 80}},\n",
    "  'last_loss': 0.00013957328457775658},\n",
    " {'epochs': 1000,\n",
    "  'config': {'layers': 3, 'layer': {1: 64, 2: 80, 3: 100}},\n",
    "  'last_loss': 0.0001337122449564145},\n",
    " {'epochs': 1000,\n",
    "  'config': {'layers': 4, 'layer': {1: 32, 2: 40, 3: 50, 4: 62}},\n",
    "  'last_loss': 0.00014273140720850956},\n",
    " {'epochs': 1000,\n",
    "  'config': {'layers': 4, 'layer': {1: 64, 2: 80, 3: 100, 4: 125}},\n",
    "  'last_loss': 0.00014199366323917293},\n",
    " {'epochs': 1000,\n",
    "  'config': {'layers': 4, 'layer': {1: 128, 2: 160, 3: 200, 4: 250}},\n",
    "  'last_loss': 0.00013302507601236916}`\n",
    "- Decreasing\n",
    "`\n",
    " {'epochs': 500,\n",
    "  'config': {'layers': 3, 'layer': {1: 128, 2: 96, 3: 72}},\n",
    "  'last_loss': 0.0001453293824861158},\n",
    " {'epochs': 1000,\n",
    "  'config': {'layers': 2, 'layer': {1: 128, 2: 96}},\n",
    "  'last_loss': 0.00015136461343140596},\n",
    " {'epochs': 1000,\n",
    "  'config': {'layers': 3, 'layer': {1: 64, 2: 48, 3: 36}},\n",
    "  'last_loss': 0.00014170785411491546},\n",
    " {'epochs': 1000,\n",
    "  'config': {'layers': 4, 'layer': {1: 64, 2: 48, 3: 36, 4: 27}},\n",
    "  'last_loss': 0.0001500321141726156},\n",
    " {'epochs': 1000,\n",
    "  'config': {'layers': 4, 'layer': {1: 128, 2: 96, 3: 72, 4: 54}},\n",
    "  'last_loss': 0.0001446379672043585}`\n",
    "- Static\n",
    "`\n",
    " {'epochs': 1000,\n",
    "  'config': {'layers': 2, 'layer': {1: 64, 2: 64}},\n",
    "  'last_loss': 0.00014958753438417495},\n",
    " {'epochs': 1000,\n",
    "  'config': {'layers': 3, 'layer': {1: 32, 2: 32, 3: 32}},\n",
    "  'last_loss': 0.0001401019461488308},\n",
    " {'epochs': 1000,\n",
    "  'config': {'layers': 3, 'layer': {1: 64, 2: 64, 3: 64}},\n",
    "  'last_loss': 0.00013208114798526547},\n",
    " {'epochs': 1000,\n",
    "  'config': {'layers': 3, 'layer': {1: 128, 2: 128, 3: 128}},\n",
    "  'last_loss': 0.00013810502170101375},\n",
    " {'epochs': 1000,\n",
    "  'config': {'layers': 4, 'layer': {1: 128, 2: 128, 3: 128, 4: 128}},\n",
    "  'last_loss': 0.0001338472487890967}`"
   ]
  },
  {
   "cell_type": "code",
   "execution_count": null,
   "metadata": {
    "collapsed": true
   },
   "outputs": [],
   "source": []
  }
 ],
 "metadata": {
  "kernelspec": {
   "display_name": "Python 3",
   "language": "python",
   "name": "python3"
  },
  "language_info": {
   "codemirror_mode": {
    "name": "ipython",
    "version": 3
   },
   "file_extension": ".py",
   "mimetype": "text/x-python",
   "name": "python",
   "nbconvert_exporter": "python",
   "pygments_lexer": "ipython3",
   "version": "3.6.3"
  }
 },
 "nbformat": 4,
 "nbformat_minor": 2
}
